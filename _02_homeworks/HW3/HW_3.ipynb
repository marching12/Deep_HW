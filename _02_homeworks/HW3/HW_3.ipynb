{
 "cells": [
  {
   "cell_type": "markdown",
   "id": "5d8f33ac",
   "metadata": {},
   "source": [
    "### [문제 1] Fashion MNIST 데이터 정규화를 위한 Mean과 Std.값 찾기"
   ]
  },
  {
   "cell_type": "code",
   "execution_count": 1,
   "id": "d471bb3a",
   "metadata": {},
   "outputs": [
    {
     "name": "stdout",
     "output_type": "stream",
     "text": [
      "Mean: 0.286040604, Std: 0.353024244\n"
     ]
    }
   ],
   "source": [
    "import os\n",
    "import torch\n",
    "from torchvision import datasets, transforms\n",
    "\n",
    "data_path = os.path.join(\"_00_data\", \"j_fashion_mnist\")\n",
    "\n",
    "# Fashion MNIST 데이터 로드 (train 데이터셋만 사용)\n",
    "fashion_mnist_train = datasets.FashionMNIST(data_path, train=True, download=False, transform=transforms.ToTensor())\n",
    "\n",
    "# 모든 이미지를 하나의 텐서로 스택\n",
    "imgs = torch.stack([img_t for img_t, _ in fashion_mnist_train], dim=3)\n",
    "\n",
    "# 전체 픽셀 값으로 평균과 표준편차 계산\n",
    "mean = imgs.view(1, -1).mean(dim=-1)\n",
    "std = imgs.view(1, -1).std(dim=-1)\n",
    "\n",
    "print(f\"Mean: {mean.item():.9f}, Std: {std.item():.9f}\")\n"
   ]
  },
  {
   "cell_type": "markdown",
   "id": "6f39529e",
   "metadata": {},
   "source": [
    "### [문제2] Fashion MNIST 데이터에 대하여 CNN 학습시키기"
   ]
  },
  {
   "cell_type": "code",
   "execution_count": 2,
   "id": "8e9cf609",
   "metadata": {
    "scrolled": false
   },
   "outputs": [
    {
     "name": "stdout",
     "output_type": "stream",
     "text": [
      "Using device: cuda\n"
     ]
    },
    {
     "name": "stderr",
     "output_type": "stream",
     "text": [
      "\u001b[34m\u001b[1mwandb\u001b[0m: Using wandb-core as the SDK backend.  Please refer to https://wandb.me/wandb-core for more information.\n",
      "\u001b[34m\u001b[1mwandb\u001b[0m: Currently logged in as: \u001b[33mmarching12\u001b[0m (\u001b[33mmarching12-korea-university-of-technology-and-education\u001b[0m). Use \u001b[1m`wandb login --relogin`\u001b[0m to force relogin\n"
     ]
    },
    {
     "data": {
      "text/html": [
       "Tracking run with wandb version 0.18.7"
      ],
      "text/plain": [
       "<IPython.core.display.HTML object>"
      ]
     },
     "metadata": {},
     "output_type": "display_data"
    },
    {
     "data": {
      "text/html": [
       "Run data is saved locally in <code>/home/work/DEEP_List/wandb/run-20241121_143249-q2o9gbm7</code>"
      ],
      "text/plain": [
       "<IPython.core.display.HTML object>"
      ]
     },
     "metadata": {},
     "output_type": "display_data"
    },
    {
     "data": {
      "text/html": [
       "Syncing run <strong><a href='https://wandb.ai/marching12-korea-university-of-technology-and-education/fashion-mnist/runs/q2o9gbm7' target=\"_blank\">vivid-universe-31</a></strong> to <a href='https://wandb.ai/marching12-korea-university-of-technology-and-education/fashion-mnist' target=\"_blank\">Weights & Biases</a> (<a href='https://wandb.me/developer-guide' target=\"_blank\">docs</a>)<br/>"
      ],
      "text/plain": [
       "<IPython.core.display.HTML object>"
      ]
     },
     "metadata": {},
     "output_type": "display_data"
    },
    {
     "data": {
      "text/html": [
       " View project at <a href='https://wandb.ai/marching12-korea-university-of-technology-and-education/fashion-mnist' target=\"_blank\">https://wandb.ai/marching12-korea-university-of-technology-and-education/fashion-mnist</a>"
      ],
      "text/plain": [
       "<IPython.core.display.HTML object>"
      ]
     },
     "metadata": {},
     "output_type": "display_data"
    },
    {
     "data": {
      "text/html": [
       " View run at <a href='https://wandb.ai/marching12-korea-university-of-technology-and-education/fashion-mnist/runs/q2o9gbm7' target=\"_blank\">https://wandb.ai/marching12-korea-university-of-technology-and-education/fashion-mnist/runs/q2o9gbm7</a>"
      ],
      "text/plain": [
       "<IPython.core.display.HTML object>"
      ]
     },
     "metadata": {},
     "output_type": "display_data"
    },
    {
     "name": "stdout",
     "output_type": "stream",
     "text": [
      "Num Train Samples:  55000\n",
      "Num Validation Samples:  5000\n",
      "Sample Shape:  torch.Size([1, 28, 28])\n",
      "Number of Data Loading Workers: 2\n",
      "Model Summary:\n",
      "==========================================================================================\n",
      "Layer (type:depth-idx)                   Output Shape              Param #\n",
      "==========================================================================================\n",
      "ModernCNN                                [128, 10]                 --\n",
      "├─Sequential: 1-1                        [128, 10]                 --\n",
      "│    └─Conv2d: 2-1                       [128, 32, 28, 28]         320\n",
      "│    └─ReLU: 2-2                         [128, 32, 28, 28]         --\n",
      "│    └─BatchNorm2d: 2-3                  [128, 32, 28, 28]         64\n",
      "│    └─Conv2d: 2-4                       [128, 64, 28, 28]         18,496\n",
      "│    └─ReLU: 2-5                         [128, 64, 28, 28]         --\n",
      "│    └─BatchNorm2d: 2-6                  [128, 64, 28, 28]         128\n",
      "│    └─MaxPool2d: 2-7                    [128, 64, 14, 14]         --\n",
      "│    └─Dropout: 2-8                      [128, 64, 14, 14]         --\n",
      "│    └─Conv2d: 2-9                       [128, 128, 14, 14]        73,856\n",
      "│    └─ReLU: 2-10                        [128, 128, 14, 14]        --\n",
      "│    └─BatchNorm2d: 2-11                 [128, 128, 14, 14]        256\n",
      "│    └─Conv2d: 2-12                      [128, 128, 14, 14]        147,584\n",
      "│    └─ReLU: 2-13                        [128, 128, 14, 14]        --\n",
      "│    └─BatchNorm2d: 2-14                 [128, 128, 14, 14]        256\n",
      "│    └─MaxPool2d: 2-15                   [128, 128, 7, 7]          --\n",
      "│    └─Dropout: 2-16                     [128, 128, 7, 7]          --\n",
      "│    └─Flatten: 2-17                     [128, 6272]               --\n",
      "│    └─Linear: 2-18                      [128, 512]                3,211,776\n",
      "│    └─ReLU: 2-19                        [128, 512]                --\n",
      "│    └─BatchNorm1d: 2-20                 [128, 512]                1,024\n",
      "│    └─Dropout: 2-21                     [128, 512]                --\n",
      "│    └─Linear: 2-22                      [128, 10]                 5,130\n",
      "==========================================================================================\n",
      "Total params: 3,458,890\n",
      "Trainable params: 3,458,890\n",
      "Non-trainable params: 0\n",
      "Total mult-adds (G): 7.86\n",
      "==========================================================================================\n",
      "Input size (MB): 0.40\n",
      "Forward/backward pass size (MB): 257.96\n",
      "Params size (MB): 13.84\n",
      "Estimated Total Size (MB): 272.20\n",
      "==========================================================================================\n",
      "Epoch 1/30 - Train Loss: 0.3878, Train Acc: 0.8605, Val Loss: 0.2683, Val Acc: 0.9020\n",
      "Epoch 2/30 - Train Loss: 0.2703, Train Acc: 0.9008, Val Loss: 0.2205, Val Acc: 0.9209\n",
      "Epoch 3/30 - Train Loss: 0.2343, Train Acc: 0.9148, Val Loss: 0.2083, Val Acc: 0.9229\n",
      "Epoch 4/30 - Train Loss: 0.2095, Train Acc: 0.9234, Val Loss: 0.1929, Val Acc: 0.9297\n",
      "Epoch 5/30 - Train Loss: 0.1959, Train Acc: 0.9279, Val Loss: 0.2043, Val Acc: 0.9268\n",
      "Epoch 6/30 - Train Loss: 0.1841, Train Acc: 0.9327, Val Loss: 0.1833, Val Acc: 0.9352\n",
      "Epoch 7/30 - Train Loss: 0.1729, Train Acc: 0.9365, Val Loss: 0.1711, Val Acc: 0.9436\n",
      "Epoch 8/30 - Train Loss: 0.1671, Train Acc: 0.9390, Val Loss: 0.1832, Val Acc: 0.9305\n",
      "Epoch 9/30 - Train Loss: 0.1578, Train Acc: 0.9427, Val Loss: 0.1738, Val Acc: 0.9426\n",
      "Epoch 10/30 - Train Loss: 0.1521, Train Acc: 0.9444, Val Loss: 0.1747, Val Acc: 0.9369\n",
      "Epoch 11/30 - Train Loss: 0.1214, Train Acc: 0.9554, Val Loss: 0.1596, Val Acc: 0.9439\n",
      "Epoch 12/30 - Train Loss: 0.1078, Train Acc: 0.9598, Val Loss: 0.1586, Val Acc: 0.9436\n",
      "Epoch 13/30 - Train Loss: 0.1046, Train Acc: 0.9615, Val Loss: 0.1598, Val Acc: 0.9459\n",
      "Epoch 14/30 - Train Loss: 0.0978, Train Acc: 0.9637, Val Loss: 0.1711, Val Acc: 0.9439\n",
      "Epoch 15/30 - Train Loss: 0.0899, Train Acc: 0.9680, Val Loss: 0.1765, Val Acc: 0.9416\n",
      "Epoch 16/30 - Train Loss: 0.0870, Train Acc: 0.9680, Val Loss: 0.1804, Val Acc: 0.9437\n",
      "Epoch 17/30 - Train Loss: 0.0856, Train Acc: 0.9685, Val Loss: 0.1775, Val Acc: 0.9434\n",
      "Epoch 18/30 - Train Loss: 0.0822, Train Acc: 0.9702, Val Loss: 0.1815, Val Acc: 0.9434\n",
      "Epoch 19/30 - Train Loss: 0.0816, Train Acc: 0.9709, Val Loss: 0.1743, Val Acc: 0.9467\n",
      "Epoch 20/30 - Train Loss: 0.0771, Train Acc: 0.9718, Val Loss: 0.1717, Val Acc: 0.9455\n",
      "Epoch 21/30 - Train Loss: 0.0588, Train Acc: 0.9788, Val Loss: 0.1700, Val Acc: 0.9463\n",
      "Epoch 22/30 - Train Loss: 0.0530, Train Acc: 0.9808, Val Loss: 0.1746, Val Acc: 0.9459\n",
      "Early stopping triggered\n",
      "Training stopped. Best Validation Loss: 0.1586\n"
     ]
    },
    {
     "data": {
      "text/plain": [
       "<All keys matched successfully>"
      ]
     },
     "execution_count": 2,
     "metadata": {},
     "output_type": "execute_result"
    }
   ],
   "source": [
    "import os\n",
    "import torch\n",
    "from torch import nn, optim\n",
    "from torchvision import transforms\n",
    "from torch.utils.data import DataLoader\n",
    "import wandb\n",
    "from torchinfo import summary  # 모델 구조 출력용\n",
    "from a_fashion_mnist_data import get_fashion_mnist_data  # 데이터 로드 함수\n",
    "\n",
    "# EarlyStopping 클래스 정의\n",
    "class EarlyStopping:\n",
    "    \"\"\"Early stops the training if validation loss doesn't improve after a given patience.\"\"\"\n",
    "    def __init__(self, patience=10, delta=0.0001, checkpoint_path=\"best_model.pth\"):\n",
    "        \"\"\"\n",
    "        초기화\n",
    "        :param patience: 검증 손실이 개선되지 않을 때 기다리는 에폭 수\n",
    "        :param delta: 개선 최소값 (작을수록 민감)\n",
    "        :param checkpoint_path: 모델 체크포인트 저장 경로\n",
    "        \"\"\"\n",
    "        self.patience = patience\n",
    "        self.counter = 0\n",
    "        self.delta = delta\n",
    "        self.best_loss = None\n",
    "        self.early_stop = False\n",
    "        self.checkpoint_path = checkpoint_path\n",
    "\n",
    "    def __call__(self, val_loss, model):\n",
    "        \"\"\"\n",
    "        검증 손실을 평가하고 필요 시 체크포인트 저장.\n",
    "        :param val_loss: 현재 에폭의 검증 손실\n",
    "        :param model: 현재 모델\n",
    "        \"\"\"\n",
    "        if self.best_loss is None or val_loss < self.best_loss - self.delta:\n",
    "            self.best_loss = val_loss\n",
    "            self.counter = 0\n",
    "            torch.save(model.state_dict(), self.checkpoint_path)  # 모델 저장\n",
    "        else:\n",
    "            self.counter += 1\n",
    "            if self.counter >= self.patience:\n",
    "                self.early_stop = True\n",
    "\n",
    "# GPU/CPU 설정\n",
    "device = torch.device(\"cuda\" if torch.cuda.is_available() else \"cpu\")\n",
    "print(f\"Using device: {device}\")\n",
    "\n",
    "# Wandb 초기화\n",
    "wandb.init(project=\"fashion-mnist\", config={\n",
    "    \"batch_size\": 128,  # 배치 크기\n",
    "    \"learning_rate\": 0.001,  # 학습률\n",
    "    \"epochs\": 30,  # 최대 학습 에폭\n",
    "    \"weight_decay\": 1e-4  # 가중치 감소율\n",
    "})\n",
    "config = wandb.config\n",
    "\n",
    "# 데이터 증강 및 데이터 로드\n",
    "train_transforms = transforms.Compose([\n",
    "    transforms.RandomCrop(28, padding=4),  # 랜덤 크롭\n",
    "    transforms.RandomHorizontalFlip(),  # 랜덤 가로 뒤집기\n",
    "    transforms.ToTensor(),\n",
    "    transforms.Normalize(mean=0.28604060411453247, std=0.3530242443084717)  # 정규화\n",
    "])\n",
    "val_transforms = transforms.Compose([\n",
    "    transforms.ToTensor(),\n",
    "    transforms.Normalize(mean=0.28604060411453247, std=0.3530242443084717)  # 정규화\n",
    "])\n",
    "\n",
    "# 학습 및 검증 데이터 로드\n",
    "train_loader, val_loader, _ = get_fashion_mnist_data()\n",
    "train_loader.dataset.dataset.transform = train_transforms  # 학습 데이터에 변환 적용\n",
    "val_loader.dataset.dataset.transform = val_transforms  # 검증 데이터에 변환 적용\n",
    "\n",
    "# CNN 모델 정의\n",
    "class ModernCNN(nn.Module):\n",
    "    \"\"\"Fashion MNIST 분류를 위한 CNN 모델.\"\"\"\n",
    "    def __init__(self):\n",
    "        super(ModernCNN, self).__init__()\n",
    "        self.network = nn.Sequential(\n",
    "            # 첫 번째 Convolutional Block\n",
    "            nn.Conv2d(1, 32, kernel_size=3, padding=1),\n",
    "            nn.ReLU(),\n",
    "            nn.BatchNorm2d(32),  # 배치 정규화\n",
    "            nn.Conv2d(32, 64, kernel_size=3, padding=1),\n",
    "            nn.ReLU(),\n",
    "            nn.BatchNorm2d(64),\n",
    "            nn.MaxPool2d(2, 2),  # 다운샘플링\n",
    "            nn.Dropout(0.4),  # 드롭아웃\n",
    "\n",
    "            # 두 번째 Convolutional Block\n",
    "            nn.Conv2d(64, 128, kernel_size=3, padding=1),\n",
    "            nn.ReLU(),\n",
    "            nn.BatchNorm2d(128),\n",
    "            nn.Conv2d(128, 128, kernel_size=3, padding=1),\n",
    "            nn.ReLU(),\n",
    "            nn.BatchNorm2d(128),\n",
    "            nn.MaxPool2d(2, 2),\n",
    "            nn.Dropout(0.4),\n",
    "\n",
    "            # Fully Connected Layer\n",
    "            nn.Flatten(),\n",
    "            nn.Linear(128 * 7 * 7, 512),  # 완전 연결 계층\n",
    "            nn.ReLU(),\n",
    "            nn.BatchNorm1d(512),  # 배치 정규화\n",
    "            nn.Dropout(0.5),\n",
    "            nn.Linear(512, 10)  # 출력 계층 (10 클래스)\n",
    "        )\n",
    "\n",
    "    def forward(self, x):\n",
    "        return self.network(x)\n",
    "\n",
    "# 모델 생성 및 장치로 이동\n",
    "model = ModernCNN().to(device)\n",
    "\n",
    "# 모델 구조 출력\n",
    "print(\"Model Summary:\")\n",
    "print(summary(model, input_size=(config.batch_size, 1, 28, 28), device=device))\n",
    "\n",
    "# 손실 함수 및 최적화 설정\n",
    "criterion = nn.CrossEntropyLoss()\n",
    "optimizer = optim.Adam(model.parameters(), lr=config.learning_rate, weight_decay=config.weight_decay)\n",
    "scheduler = optim.lr_scheduler.StepLR(optimizer, step_size=10, gamma=0.5)  # 학습률 스케줄러\n",
    "\n",
    "# EarlyStopping 초기화\n",
    "early_stopping = EarlyStopping(patience=10, checkpoint_path=\"modern_cnn_best.pth\")\n",
    "\n",
    "# 학습 루프 함수\n",
    "def train_one_epoch(model, train_loader, criterion, optimizer, device):\n",
    "    \"\"\"\n",
    "    모델을 한 에폭 동안 학습하는 함수.\n",
    "    :param model: 학습할 모델\n",
    "    :param train_loader: 학습 데이터 로더\n",
    "    :param criterion: 손실 함수\n",
    "    :param optimizer: 최적화 알고리즘\n",
    "    :param device: 장치 (GPU 또는 CPU)\n",
    "    :return: 학습 손실, 학습 정확도\n",
    "    \"\"\"\n",
    "    model.train()\n",
    "    train_loss, train_acc = 0, 0\n",
    "    for inputs, labels in train_loader:\n",
    "        inputs, labels = inputs.to(device), labels.to(device)\n",
    "        optimizer.zero_grad()\n",
    "        outputs = model(inputs)\n",
    "        loss = criterion(outputs, labels)\n",
    "        loss.backward()\n",
    "        optimizer.step()\n",
    "        train_loss += loss.item()\n",
    "        train_acc += (outputs.argmax(1) == labels).float().mean().item()\n",
    "    train_loss /= len(train_loader)\n",
    "    train_acc /= len(train_loader)\n",
    "    return train_loss, train_acc\n",
    "\n",
    "# 검증 루프 함수\n",
    "def validate(model, val_loader, criterion, device):\n",
    "    \"\"\"\n",
    "    모델을 검증 데이터로 평가하는 함수.\n",
    "    :param model: 평가할 모델\n",
    "    :param val_loader: 검증 데이터 로더\n",
    "    :param criterion: 손실 함수\n",
    "    :param device: 장치 (GPU 또는 CPU)\n",
    "    :return: 검증 손실, 검증 정확도\n",
    "    \"\"\"\n",
    "    model.eval()\n",
    "    val_loss, val_acc = 0, 0\n",
    "    with torch.no_grad():\n",
    "        for inputs, labels in val_loader:\n",
    "            inputs, labels = inputs.to(device), labels.to(device)\n",
    "            outputs = model(inputs)\n",
    "            loss = criterion(outputs, labels)\n",
    "            val_loss += loss.item()\n",
    "            val_acc += (outputs.argmax(1) == labels).float().mean().item()\n",
    "    val_loss /= len(val_loader)\n",
    "    val_acc /= len(val_loader)\n",
    "    return val_loss, val_acc\n",
    "\n",
    "# 메인 학습 루프\n",
    "for epoch in range(config.epochs):\n",
    "    # Training\n",
    "    train_loss, train_acc = train_one_epoch(model, train_loader, criterion, optimizer, device)\n",
    "\n",
    "    # Validation\n",
    "    val_loss, val_acc = validate(model, val_loader, criterion, device)\n",
    "\n",
    "    # Learning Rate 업데이트\n",
    "    scheduler.step()\n",
    "\n",
    "    # Wandb 기록\n",
    "    wandb.log({\n",
    "        \"epoch\": epoch + 1,\n",
    "        \"train_loss\": train_loss, \"train_acc\": train_acc,\n",
    "        \"val_loss\": val_loss, \"val_acc\": val_acc\n",
    "    })\n",
    "\n",
    "    # 학습 결과 출력\n",
    "    print(f\"Epoch {epoch + 1}/{config.epochs} - \"\n",
    "          f\"Train Loss: {train_loss:.4f}, Train Acc: {train_acc:.4f}, \"\n",
    "          f\"Val Loss: {val_loss:.4f}, Val Acc: {val_acc:.4f}\")\n",
    "\n",
    "    # Early Stopping 체크\n",
    "    early_stopping(val_loss, model)\n",
    "    if early_stopping.early_stop:\n",
    "        print(\"Early stopping triggered\")\n",
    "        break\n",
    "\n",
    "print(f\"Training stopped. Best Validation Loss: {early_stopping.best_loss:.4f}\")\n",
    "\n",
    "# 최적 모델 로드\n",
    "model.load_state_dict(torch.load(early_stopping.checkpoint_path))  # 체크포인트에서 모델 복원\n"
   ]
  },
  {
   "cell_type": "markdown",
   "id": "3f077948",
   "metadata": {},
   "source": [
    "### 최적의 하이퍼파라미터\n",
    "* Learning Rate: 0.001\n",
    "    * 학습 속도를 최적화하여 과대적합과 과소적합 사이의 균형을 맞춤.\n",
    "* Batch Size: 128\n",
    "    * GPU 메모리 효율성을 고려하여 최적의 배치 크기를 설정.\n",
    "* Early Stop Patience: 10\n",
    "    * 검증 손실이 개선되지 않을 경우 학습을 조기 종료하여 시간 절약.\n",
    "* Weight Decay Value: 1e-4\n",
    "    * 과적합 방지를 위한 정규화 기법.\n",
    "* Normalization Type:\n",
    "    * 데이터 평균: 0.2860\n",
    "    * 데이터 표준편차: 0.3530\n",
    "    * 데이터 정규화를 통해 학습 안정성 개선.\n",
    "* Dropout Rate:\n",
    "    * Convolutional Layer: 0.4\n",
    "    * Fully Connected Layer: 0.5\n",
    "    * 드롭아웃 비율 조정을 통해 과적합 방지.\n",
    "\n",
    "### 모델 설계\n",
    "* Modern CNN Architecture\n",
    "* 구조\n",
    "    1.Convolutional Layers\n",
    "        * 입력 데이터: 28x28 크기의 단일 채널 이미지.\n",
    "        * 두 개의 컨볼루션 블록:\n",
    "            * 각 블록에 Conv2D, ReLU, BatchNorm, MaxPool 적용.\n",
    "            * 드롭아웃 비율: 0.4\n",
    "    2. Fully Connected Layers\n",
    "        * Flatten 후 Dense Layer로 연결.\n",
    "        * 중간 뉴런: 512\n",
    "        * 드롭아웃 비율: 0.5\n",
    "        * 최종 출력: 10 클래스 (Softmax 활성화 함수 사용).\n",
    "    3. Batch Normalization\n",
    "        * 모든 Convolutional Block과 Fully Connected Layer에 적용.\n",
    "\n",
    "### 최적화 기법\n",
    "* 손실 함수\n",
    "    * Cross Entropy Loss\n",
    "        * 다중 클래스 분류 문제를 위한 손실 함수.\n",
    "* 최적화 알고리즘\n",
    "    * Adam Optimizer\n",
    "    * 학습률: 0.001\n",
    "    * 가중치 감소율: 1e-4\n",
    "* Learning Rate Scheduler\n",
    "    * StepLR\n",
    "        * 10 에폭마다 학습률을 0.5배로 감소.\n"
   ]
  },
  {
   "cell_type": "code",
   "execution_count": 5,
   "id": "2a879f8e",
   "metadata": {},
   "outputs": [
    {
     "name": "stdout",
     "output_type": "stream",
     "text": [
      "Num Test Samples:  10000\n",
      "Sample Shape:  torch.Size([1, 28, 28])\n",
      "Loading the best model for evaluation...\n",
      "Validation Loss: 0.1586, Validation Accuracy: 94.22%\n",
      "Test Loss: 0.1798, Test Accuracy: 93.85%\n"
     ]
    }
   ],
   "source": [
    "# Test 데이터 평가 함수\n",
    "def evaluate_data(model, data_loader, criterion, device):\n",
    "    \"\"\"\n",
    "    데이터셋에서 모델 성능을 평가하는 함수.\n",
    "    :param model: 평가할 모델\n",
    "    :param data_loader: 평가 데이터 로더\n",
    "    :param criterion: 손실 함수\n",
    "    :param device: 사용 장치 (GPU 또는 CPU)\n",
    "    :return: 평균 손실, 정확도\n",
    "    \"\"\"\n",
    "    model.eval()  # 평가 모드 전환\n",
    "    total_loss = 0\n",
    "    correct_predictions = 0\n",
    "    total_samples = 0\n",
    "\n",
    "    with torch.no_grad():  # 그래디언트 계산 비활성화\n",
    "        for inputs, labels in data_loader:\n",
    "            inputs, labels = inputs.to(device), labels.to(device)  # 데이터 장치로 이동\n",
    "\n",
    "            # Forward pass\n",
    "            outputs = model(inputs)  # 예측값 계산\n",
    "            loss = criterion(outputs, labels)  # 손실 계산\n",
    "\n",
    "            # 손실 누적\n",
    "            total_loss += loss.item()\n",
    "\n",
    "            # 정확도 계산\n",
    "            correct_predictions += (outputs.argmax(1) == labels).sum().item()  # 올바른 예측 수 누적\n",
    "            total_samples += labels.size(0)  # 전체 샘플 수 누적\n",
    "\n",
    "    # 평균 손실 및 정확도 계산\n",
    "    avg_loss = total_loss / len(data_loader)  # 평균 손실\n",
    "    accuracy = correct_predictions / total_samples  # 정확도\n",
    "    return avg_loss, accuracy\n",
    "\n",
    "\n",
    "# Test 데이터 로드 및 평가\n",
    "from a_fashion_mnist_data import get_fashion_mnist_test_data\n",
    "\n",
    "# Test 데이터 전처리 설정\n",
    "test_transforms = transforms.Compose([\n",
    "    transforms.ToTensor(),  # 텐서로 변환\n",
    "    transforms.Normalize(mean=0.28604060411453247, std=0.3530242443084717)  # 정규화\n",
    "])\n",
    "\n",
    "# Test 데이터 로드\n",
    "_, test_loader, _ = get_fashion_mnist_test_data()\n",
    "\n",
    "# Test 데이터셋에 전처리(transform) 적용\n",
    "test_loader.dataset.transform = test_transforms  # Normalize 적용\n",
    "\n",
    "# 최적 모델 로드\n",
    "print(\"Loading the best model for evaluation...\")\n",
    "model.load_state_dict(torch.load(early_stopping.checkpoint_path))  # 저장된 체크포인트 로드\n",
    "\n",
    "# Validation 데이터 재평가\n",
    "val_loss, val_acc = evaluate_data(model, val_loader, criterion, device)\n",
    "print(f\"Validation Loss: {val_loss:.4f}, Validation Accuracy: {val_acc * 100:.2f}%\")\n",
    "\n",
    "# Test 데이터셋 평가\n",
    "test_loss, test_acc = evaluate_data(model, test_loader, criterion, device)\n",
    "print(f\"Test Loss: {test_loss:.4f}, Test Accuracy: {test_acc * 100:.2f}%\")\n"
   ]
  },
  {
   "cell_type": "markdown",
   "id": "490fd384",
   "metadata": {},
   "source": [
    "### [문제 4] 샘플 테스트 데이터 분류 예측 결과 확인하기"
   ]
  },
  {
   "cell_type": "code",
   "execution_count": 6,
   "id": "7260263c",
   "metadata": {},
   "outputs": [
    {
     "data": {
      "image/png": "[encoded data removed]",
      "text/plain": [
       "<Figure size 1500x1000 with 10 Axes>"
      ]
     },
     "metadata": {},
     "output_type": "display_data"
    },
    {
     "name": "stdout",
     "output_type": "stream",
     "text": [
      "Total Correct Predictions: 9/10\n",
      "Accuracy on 10 samples: 90.00%\n"
     ]
    }
   ],
   "source": [
    "import random\n",
    "import matplotlib.pyplot as plt\n",
    "import torch\n",
    "\n",
    "# 샘플 10개를 선택하여 예측 및 시각화\n",
    "def evaluate_sample_predictions(model, test_loader, device, class_names):\n",
    "    \"\"\"\n",
    "    테스트 데이터에서 랜덤하게 10개 샘플을 선택하여 예측 결과를 시각화하고 평가하는 함수.\n",
    "    \n",
    "    :param model: 평가할 모델\n",
    "    :param test_loader: 테스트 데이터 로더\n",
    "    :param device: 모델이 실행될 장치 (GPU 또는 CPU)\n",
    "    :param class_names: FashionMNIST 클래스 이름 리스트\n",
    "    \"\"\"\n",
    "    model.eval()  # 평가 모드 전환 (Dropout 비활성화)\n",
    "\n",
    "    # 10개의 랜덤 샘플 인덱스 선택\n",
    "    random_indices = random.sample(range(len(test_loader.dataset)), 10)\n",
    "    samples = [test_loader.dataset[i] for i in random_indices]  # 선택된 인덱스에 해당하는 샘플 추출\n",
    "\n",
    "    # 이미지와 레이블 준비\n",
    "    images, labels = zip(*samples)  # 이미지와 레이블을 분리\n",
    "    images = torch.stack(images).to(device)  # 이미지 텐서를 하나로 결합하고 장치로 이동\n",
    "    labels = torch.tensor(labels).to(device)  # 레이블을 텐서로 변환하고 장치로 이동\n",
    "\n",
    "    # 모델을 사용한 예측 수행\n",
    "    with torch.no_grad():  # 그래디언트 계산 비활성화\n",
    "        outputs = model(images)  # 모델의 예측값\n",
    "        predictions = outputs.argmax(1)  # 가장 높은 점수를 받은 클래스 예측\n",
    "\n",
    "    # 시각화 및 결과 출력\n",
    "    plt.figure(figsize=(15, 10))  # 시각화 크기 설정\n",
    "    for i in range(10):  # 10개의 샘플에 대해 반복\n",
    "        plt.subplot(2, 5, i + 1)  # 2행 5열로 구성된 서브플롯 생성\n",
    "        plt.imshow(images[i].cpu().squeeze(), cmap=\"gray\")  # 이미지를 그레이스케일로 표시\n",
    "        plt.title(\n",
    "            f\"True: {class_names[labels[i].item()]}\\nPred: {class_names[predictions[i].item()]}\"\n",
    "        )  # 실제 클래스와 예측 클래스 출력\n",
    "        plt.axis(\"off\")  # 축 숨기기\n",
    "    plt.show()  # 모든 시각화 출력\n",
    "\n",
    "    # 레이블과 예측 결과 비교\n",
    "    correct = (predictions == labels).sum().item()  # 올바른 예측 개수 계산\n",
    "    print(f\"Total Correct Predictions: {correct}/10\")  # 정확히 예측한 샘플 개수 출력\n",
    "    print(f\"Accuracy on 10 samples: {correct / 10 * 100:.2f}%\")  # 샘플에 대한 정확도 출력\n",
    "\n",
    "\n",
    "# 클래스 이름 정의 (FashionMNIST 클래스)\n",
    "class_names = [\n",
    "    \"T-shirt/top\", \"Trouser\", \"Pullover\", \"Dress\", \"Coat\",\n",
    "    \"Sandal\", \"Shirt\", \"Sneaker\", \"Bag\", \"Ankle boot\"\n",
    "]\n",
    "\n",
    "# 최적 모델 로드\n",
    "model.load_state_dict(torch.load(early_stopping.checkpoint_path))  # 저장된 최적의 모델 체크포인트 로드\n",
    "\n",
    "# 10개의 샘플로 예측 및 평가\n",
    "evaluate_sample_predictions(model, test_loader, device, class_names)  # 테스트 데이터로 예측 수행\n"
   ]
  },
  {
   "cell_type": "markdown",
   "id": "f7a55929",
   "metadata": {},
   "source": [
    "1. 모델의 일반화 능력 부족\n",
    "학습 데이터에서 \"Ankle boot\"와 \"Sneaker\" 클래스를 착각했을 가능성.\n",
    "비슷한 패턴(예: 신발 모양, 색상)이 두 클래스에 걸쳐 나타나 모델이 구별하지 못한거 같음\n",
    "2. 데이터 증강 부족\n",
    "학습 데이터에서 다양한 각도, 밝기, 패턴의 신발 이미지를 갖추지 못했을 가능성."
   ]
  },
  {
   "cell_type": "markdown",
   "id": "79fd156d",
   "metadata": {},
   "source": [
    "### 숙제후기\n",
    "정확도를 높이는 여러 과정을 배우게 되었다."
   ]
  },
  {
   "cell_type": "code",
   "execution_count": null,
   "id": "0b303ebc",
   "metadata": {},
   "outputs": [],
   "source": []
  }
 ],
 "metadata": {
  "kernelspec": {
   "display_name": "PyTorch 2.3 (NGC 24.03/Python 3.10) on Backend.AI",
   "language": "python",
   "name": "python3"
  },
  "language_info": {
   "codemirror_mode": {
    "name": "ipython",
    "version": 3
   },
   "file_extension": ".py",
   "mimetype": "text/x-python",
   "name": "python",
   "nbconvert_exporter": "python",
   "pygments_lexer": "ipython3",
   "version": "3.10.12"
  }
 },
 "nbformat": 4,
 "nbformat_minor": 5
}
