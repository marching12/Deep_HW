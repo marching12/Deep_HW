{
 "cells": [
  {
   "cell_type": "code",
   "execution_count": 1,
   "id": "339f6549",
   "metadata": {},
   "outputs": [],
   "source": [
    "import torch\n",
    "import wandb\n",
    "from matplotlib import pyplot as plt\n",
    "from datetime import datetime\n",
    "import os\n",
    "from pathlib import Path\n",
    "import sys\n",
    "from torch.utils.data import DataLoader\n",
    "import torch.optim as optim\n",
    "\n",
    "# Jupyter 환경에서 BASE_PATH 설정\n",
    "BASE_PATH = os.getcwd()\n",
    "\n",
    "# 필요한 경로를 sys.path에 추가\n",
    "sys.path.append(BASE_PATH)\n",
    "\n",
    "# 경로 설정\n",
    "CURRENT_FILE_PATH = BASE_PATH\n",
    "CHECKPOINT_a_FILE_PATH = os.path.join(CURRENT_FILE_PATH, \"checkpoints_a\")\n",
    "if not os.path.isdir(CHECKPOINT_a_FILE_PATH):\n",
    "    os.makedirs(CHECKPOINT_a_FILE_PATH)\n",
    "\n",
    "# 모듈 임포트\n",
    "from _01_code._15_lstm_and_its_application.f_arg_parser import get_parser\n",
    "from _01_code._14_rnn.g_rnn_trainer import RegressionTrainer\n",
    "from _01_code._03_real_world_data_to_tensors.p_cryptocurrency_dataset_dataloader import get_cryptocurrency_data, \\\n",
    "  CryptoCurrencyDataset\n",
    "\n",
    "# argparse 시뮬레이션\n",
    "import sys\n",
    "sys.argv = ['ipykernel_launcher.py', '--wandb', '--epochs=1000', '--batch_size=32', '--learning_rate=0.001', '--validation_intervals=5', '--early_stop_patience=30', '--early_stop_delta=0.0001']\n",
    "\n",
    "# 파서 설정\n",
    "parser = get_parser()\n",
    "args = parser.parse_args()\n"
   ]
  },
  {
   "cell_type": "code",
   "execution_count": 2,
   "id": "17ffeee5",
   "metadata": {},
   "outputs": [],
   "source": [
    "def get_btc_krw_data(sequence_size=10, validation_size=100, test_size=10, is_regression=True):\n",
    "  X_train, X_validation, X_test, y_train, y_validation, y_test, y_train_date, y_validation_date, y_test_date \\\n",
    "    = get_cryptocurrency_data(\n",
    "      sequence_size=sequence_size, validation_size=validation_size, test_size=test_size,\n",
    "      target_column='Close', y_normalizer=1.0e7, is_regression=is_regression\n",
    "  )\n",
    "\n",
    "  # print(X_train.shape, X_validation.shape, X_test.shape, y_train.shape, y_validation.shape, y_test.shape, \"!!! - 1\")\n",
    "\n",
    "  # X_train.shape: [3212, 10, 5]\n",
    "  # X_validation.shape: [100, 10, 5]\n",
    "  # X_test.shape: [10, 10, 5]\n",
    "  # y_train.shape: [3212]\n",
    "  # y_validation.shape: [100]\n",
    "  # y_test.shape: [10]\n",
    "\n",
    "  train_crypto_currency_dataset = CryptoCurrencyDataset(X=X_train, y=y_train)\n",
    "  validation_crypto_currency_dataset = CryptoCurrencyDataset(X=X_validation, y=y_validation)\n",
    "  test_crypto_currency_dataset = CryptoCurrencyDataset(X=X_test, y=y_test)\n",
    "\n",
    "  train_data_loader = DataLoader(\n",
    "    dataset=train_crypto_currency_dataset, batch_size=wandb.config.batch_size, shuffle=True\n",
    "  )\n",
    "  validation_data_loader = DataLoader(\n",
    "    dataset=validation_crypto_currency_dataset, batch_size=wandb.config.batch_size, shuffle=True\n",
    "  )\n",
    "  test_data_loader = DataLoader(\n",
    "    dataset=test_crypto_currency_dataset, batch_size=len(test_crypto_currency_dataset), shuffle=True\n",
    "  )\n",
    "\n",
    "  return train_data_loader, validation_data_loader, test_data_loader\n",
    "\n"
   ]
  },
  {
   "cell_type": "code",
   "execution_count": 3,
   "id": "10c15239",
   "metadata": {},
   "outputs": [],
   "source": [
    "import torch.nn as nn\n",
    "\n",
    "def get_model(n_input, n_output, hidden_size=128, num_layers=2):\n",
    "    class MyModel(nn.Module):\n",
    "        def __init__(self, n_input, n_output, hidden_size, num_layers):\n",
    "            super().__init__()\n",
    "            self.lstm = nn.LSTM(input_size=n_input, hidden_size=hidden_size, num_layers=num_layers, batch_first=True)\n",
    "            self.fcn = nn.Linear(in_features=hidden_size, out_features=n_output)\n",
    "\n",
    "        def forward(self, x):\n",
    "            x, hidden = self.lstm(x)\n",
    "            x = x[:, -1, :]  # x.shape: [batch_size, hidden_size]\n",
    "            x = self.fcn(x)\n",
    "            return x\n",
    "\n",
    "    my_model = MyModel(n_input, n_output, hidden_size, num_layers)\n",
    "    return my_model"
   ]
  },
  {
   "cell_type": "markdown",
   "id": "75f244b8",
   "metadata": {},
   "source": [
    "### g 실행"
   ]
  },
  {
   "cell_type": "code",
   "execution_count": 4,
   "id": "830591d6",
   "metadata": {
    "scrolled": true
   },
   "outputs": [
    {
     "name": "stderr",
     "output_type": "stream",
     "text": [
      "\u001B[34m\u001B[1mwandb\u001B[0m: Using wandb-core as the SDK backend.  Please refer to https://wandb.me/wandb-core for more information.\n",
      "\u001B[34m\u001B[1mwandb\u001B[0m: Currently logged in as: \u001B[33mmarching12\u001B[0m (\u001B[33mmarching12-korea-university-of-technology-and-education\u001B[0m). Use \u001B[1m`wandb login --relogin`\u001B[0m to force relogin\n",
      "/usr/local/lib/python3.10/dist-packages/pydantic/main.py:314: UserWarning: Pydantic serializer warnings:\n",
      "  Expected `list[str]` but got `tuple` - serialized value may not be as expected\n",
      "  return self.__pydantic_serializer__.to_python(\n",
      "/usr/local/lib/python3.10/dist-packages/pydantic/main.py:314: UserWarning: Pydantic serializer warnings:\n",
      "  Expected `list[str]` but got `tuple` - serialized value may not be as expected\n",
      "  return self.__pydantic_serializer__.to_python(\n"
     ]
    },
    {
     "data": {
      "text/html": [
       "Tracking run with wandb version 0.19.1"
      ],
      "text/plain": [
       "<IPython.core.display.HTML object>"
      ]
     },
     "metadata": {},
     "output_type": "display_data"
    },
    {
     "data": {
      "text/html": [
       "Run data is saved locally in <code>/home/work/wandb/run-20241220_071553-l35atztc</code>"
      ],
      "text/plain": [
       "<IPython.core.display.HTML object>"
      ]
     },
     "metadata": {},
     "output_type": "display_data"
    },
    {
     "data": {
      "text/html": [
       "Syncing run <strong><a href='https://wandb.ai/marching12-korea-university-of-technology-and-education/lstm_regression_btc_krw/runs/l35atztc' target=\"_blank\">2024-12-20_07-15-52</a></strong> to <a href='https://wandb.ai/marching12-korea-university-of-technology-and-education/lstm_regression_btc_krw' target=\"_blank\">Weights & Biases</a> (<a href='https://wandb.me/developer-guide' target=\"_blank\">docs</a>)<br>"
      ],
      "text/plain": [
       "<IPython.core.display.HTML object>"
      ]
     },
     "metadata": {},
     "output_type": "display_data"
    },
    {
     "data": {
      "text/html": [
       " View project at <a href='https://wandb.ai/marching12-korea-university-of-technology-and-education/lstm_regression_btc_krw' target=\"_blank\">https://wandb.ai/marching12-korea-university-of-technology-and-education/lstm_regression_btc_krw</a>"
      ],
      "text/plain": [
       "<IPython.core.display.HTML object>"
      ]
     },
     "metadata": {},
     "output_type": "display_data"
    },
    {
     "data": {
      "text/html": [
       " View run at <a href='https://wandb.ai/marching12-korea-university-of-technology-and-education/lstm_regression_btc_krw/runs/l35atztc' target=\"_blank\">https://wandb.ai/marching12-korea-university-of-technology-and-education/lstm_regression_btc_krw/runs/l35atztc</a>"
      ],
      "text/plain": [
       "<IPython.core.display.HTML object>"
      ]
     },
     "metadata": {},
     "output_type": "display_data"
    },
    {
     "name": "stdout",
     "output_type": "stream",
     "text": [
      "Namespace(wandb=True, batch_size=32, epochs=1000, learning_rate=0.001, weight_decay=0.0, validation_intervals=5, early_stop_patience=30, early_stop_delta=0.0001)\n",
      "{'epochs': 1000, 'batch_size': 32, 'validation_intervals': 5, 'learning_rate': 0.001, 'early_stop_patience': 30, 'early_stop_delta': 0.0001, 'weight_decay': 0.0}\n",
      "Training on device cuda:0.\n",
      "[Epoch   1] T_loss: 1.26584, V_loss: 1.37180, Early stopping is stated! | T_time: 00:00:00, T_speed: 0.002\n",
      "[Epoch   5] T_loss: 0.03158, V_loss: 0.74760, V_loss decreased (1.37180 --> 0.74760). Saving model... | T_time: 00:00:02, T_speed: 0.071\n",
      "[Epoch  10] T_loss: 0.01909, V_loss: 0.54274, V_loss decreased (0.74760 --> 0.54274). Saving model... | T_time: 00:00:03, T_speed: 0.011\n",
      "[Epoch  15] T_loss: 0.01642, V_loss: 0.39455, V_loss decreased (0.54274 --> 0.39455). Saving model... | T_time: 00:00:05, T_speed: 0.018\n",
      "[Epoch  20] T_loss: 0.01347, V_loss: 0.40957, Early stopping counter: 1 out of 30 | T_time: 00:00:07, T_speed: 0.029\n",
      "[Epoch  25] T_loss: 0.01625, V_loss: 0.59682, Early stopping counter: 2 out of 30 | T_time: 00:00:09, T_speed: 0.044\n",
      "[Epoch  30] T_loss: 0.01663, V_loss: 0.44639, Early stopping counter: 3 out of 30 | T_time: 00:00:11, T_speed: 0.070\n",
      "[Epoch  35] T_loss: 0.01492, V_loss: 0.35202, V_loss decreased (0.39455 --> 0.35202). Saving model... | T_time: 00:00:13, T_speed: 0.114\n",
      "[Epoch  40] T_loss: 0.01432, V_loss: 0.38278, Early stopping counter: 1 out of 30 | T_time: 00:00:15, T_speed: 0.213\n",
      "[Epoch  45] T_loss: 0.01204, V_loss: 0.29797, V_loss decreased (0.35202 --> 0.29797). Saving model... | T_time: 00:00:17, T_speed: 0.752\n",
      "[Epoch  50] T_loss: 0.01429, V_loss: 0.33211, Early stopping counter: 1 out of 30 | T_time: 00:00:18, T_speed: 0.053\n",
      "[Epoch  55] T_loss: 0.01226, V_loss: 0.34686, Early stopping counter: 2 out of 30 | T_time: 00:00:20, T_speed: 0.068\n",
      "[Epoch  60] T_loss: 0.01140, V_loss: 0.33199, Early stopping counter: 3 out of 30 | T_time: 00:00:22, T_speed: 0.088\n",
      "[Epoch  65] T_loss: 0.01211, V_loss: 0.31576, Early stopping counter: 4 out of 30 | T_time: 00:00:24, T_speed: 0.116\n",
      "[Epoch  70] T_loss: 0.01223, V_loss: 0.37883, Early stopping counter: 5 out of 30 | T_time: 00:00:26, T_speed: 0.159\n",
      "[Epoch  75] T_loss: 0.01131, V_loss: 0.35260, Early stopping counter: 6 out of 30 | T_time: 00:00:28, T_speed: 0.230\n",
      "[Epoch  80] T_loss: 0.01126, V_loss: 0.33243, Early stopping counter: 7 out of 30 | T_time: 00:00:30, T_speed: 0.405\n",
      "[Epoch  85] T_loss: 0.01178, V_loss: 0.35951, Early stopping counter: 8 out of 30 | T_time: 00:00:32, T_speed: 1.553\n",
      "[Epoch  90] T_loss: 0.01189, V_loss: 0.37600, Early stopping counter: 9 out of 30 | T_time: 00:00:33, T_speed: 0.109\n",
      "[Epoch  95] T_loss: 0.01135, V_loss: 0.42598, Early stopping counter: 10 out of 30 | T_time: 00:00:35, T_speed: 0.165\n",
      "[Epoch 100] T_loss: 0.01079, V_loss: 0.36466, Early stopping counter: 11 out of 30 | T_time: 00:00:37, T_speed: 0.228\n",
      "[Epoch 105] T_loss: 0.01113, V_loss: 0.38418, Early stopping counter: 12 out of 30 | T_time: 00:00:39, T_speed: 0.328\n",
      "[Epoch 110] T_loss: 0.00993, V_loss: 0.40049, Early stopping counter: 13 out of 30 | T_time: 00:00:41, T_speed: 0.569\n",
      "[Epoch 115] T_loss: 0.01105, V_loss: 0.43393, Early stopping counter: 14 out of 30 | T_time: 00:00:43, T_speed: 1.937\n",
      "[Epoch 120] T_loss: 0.00995, V_loss: 0.51439, Early stopping counter: 15 out of 30 | T_time: 00:00:44, T_speed: 0.129\n",
      "[Epoch 125] T_loss: 0.01079, V_loss: 0.44699, Early stopping counter: 16 out of 30 | T_time: 00:00:46, T_speed: 0.158\n",
      "[Epoch 130] T_loss: 0.00976, V_loss: 0.44812, Early stopping counter: 17 out of 30 | T_time: 00:00:48, T_speed: 0.197\n",
      "[Epoch 135] T_loss: 0.00906, V_loss: 0.45725, Early stopping counter: 18 out of 30 | T_time: 00:00:50, T_speed: 0.253\n",
      "[Epoch 140] T_loss: 0.00849, V_loss: 0.47747, Early stopping counter: 19 out of 30 | T_time: 00:00:52, T_speed: 0.359\n",
      "[Epoch 145] T_loss: 0.00862, V_loss: 0.54017, Early stopping counter: 20 out of 30 | T_time: 00:00:54, T_speed: 0.569\n",
      "[Epoch 150] T_loss: 0.00810, V_loss: 0.49819, Early stopping counter: 21 out of 30 | T_time: 00:00:56, T_speed: 1.442\n",
      "[Epoch 155] T_loss: 0.00764, V_loss: 0.57605, Early stopping counter: 22 out of 30 | T_time: 00:00:57, T_speed: 0.159\n",
      "[Epoch 160] T_loss: 0.00759, V_loss: 0.58294, Early stopping counter: 23 out of 30 | T_time: 00:00:59, T_speed: 0.188\n",
      "[Epoch 165] T_loss: 0.00845, V_loss: 0.50678, Early stopping counter: 24 out of 30 | T_time: 00:01:01, T_speed: 0.230\n",
      "[Epoch 170] T_loss: 0.00753, V_loss: 0.60019, Early stopping counter: 25 out of 30 | T_time: 00:01:03, T_speed: 0.286\n",
      "[Epoch 175] T_loss: 0.00657, V_loss: 0.54151, Early stopping counter: 26 out of 30 | T_time: 00:01:05, T_speed: 0.378\n",
      "[Epoch 180] T_loss: 0.00661, V_loss: 0.54910, Early stopping counter: 27 out of 30 | T_time: 00:01:07, T_speed: 0.533\n",
      "[Epoch 185] T_loss: 0.00572, V_loss: 0.61628, Early stopping counter: 28 out of 30 | T_time: 00:01:09, T_speed: 0.868\n",
      "[Epoch 190] T_loss: 0.00522, V_loss: 0.58034, Early stopping counter: 29 out of 30 | T_time: 00:01:11, T_speed: 2.335\n",
      "[Epoch 195] T_loss: 0.00498, V_loss: 0.61851, Early stopping counter: 30 out of 30 *** TRAIN EARLY STOPPED! *** | T_time: 00:01:12, T_speed: 0.204\n",
      "Final training time: 00:01:12\n"
     ]
    },
    {
     "data": {
      "text/html": [],
      "text/plain": [
       "<IPython.core.display.HTML object>"
      ]
     },
     "metadata": {},
     "output_type": "display_data"
    },
    {
     "data": {
      "text/html": [
       "<br>    <style><br>        .wandb-row {<br>            display: flex;<br>            flex-direction: row;<br>            flex-wrap: wrap;<br>            justify-content: flex-start;<br>            width: 100%;<br>        }<br>        .wandb-col {<br>            display: flex;<br>            flex-direction: column;<br>            flex-basis: 100%;<br>            flex: 1;<br>            padding: 10px;<br>        }<br>    </style><br><div class=\"wandb-row\"><div class=\"wandb-col\"><h3>Run history:</h3><br/><table class=\"wandb\"><tr><td>Epoch</td><td>▁▁▁▂▂▂▂▂▂▃▃▃▃▃▃▄▄▄▄▄▅▅▅▅▅▅▆▆▆▆▆▇▇▇▇▇▇███</td></tr><tr><td>Training loss</td><td>█▁▁▁▁▁▁▁▁▁▁▁▁▁▁▁▁▁▁▁▁▁▁▁▁▁▁▁▁▁▁▁▁▁▁▁▁▁▁▁</td></tr><tr><td>Training speed (epochs/sec.)</td><td>▁▁▁▁▁▁▁▁▂▃▁▁▁▁▁▂▂▆▁▁▂▂▃▇▁▁▂▂▂▃▅▁▂▂▂▂▃▄█▂</td></tr><tr><td>Validation loss</td><td>█▄▃▂▂▃▂▁▂▁▁▁▁▁▂▁▁▁▂▂▁▂▂▂▂▂▂▂▂▃▂▃▃▂▃▃▃▃▃▃</td></tr></table><br/></div><div class=\"wandb-col\"><h3>Run summary:</h3><br/><table class=\"wandb\"><tr><td>Epoch</td><td>195</td></tr><tr><td>Training loss</td><td>0.00498</td></tr><tr><td>Training speed (epochs/sec.)</td><td>0.20393</td></tr><tr><td>Validation loss</td><td>0.61851</td></tr></table><br/></div></div>"
      ],
      "text/plain": [
       "<IPython.core.display.HTML object>"
      ]
     },
     "metadata": {},
     "output_type": "display_data"
    },
    {
     "data": {
      "text/html": [
       " View run <strong style=\"color:#cdcd00\">2024-12-20_07-15-52</strong> at: <a href='https://wandb.ai/marching12-korea-university-of-technology-and-education/lstm_regression_btc_krw/runs/l35atztc' target=\"_blank\">https://wandb.ai/marching12-korea-university-of-technology-and-education/lstm_regression_btc_krw/runs/l35atztc</a><br> View project at: <a href='https://wandb.ai/marching12-korea-university-of-technology-and-education/lstm_regression_btc_krw' target=\"_blank\">https://wandb.ai/marching12-korea-university-of-technology-and-education/lstm_regression_btc_krw</a><br>Synced 5 W&B file(s), 0 media file(s), 0 artifact file(s) and 0 other file(s)"
      ],
      "text/plain": [
       "<IPython.core.display.HTML object>"
      ]
     },
     "metadata": {},
     "output_type": "display_data"
    },
    {
     "data": {
      "text/html": [
       "Find logs at: <code>./wandb/run-20241220_071553-l35atztc/logs</code>"
      ],
      "text/plain": [
       "<IPython.core.display.HTML object>"
      ]
     },
     "metadata": {},
     "output_type": "display_data"
    }
   ],
   "source": [
    "def main(args):\n",
    "  run_time_str = datetime.now().astimezone().strftime('%Y-%m-%d_%H-%M-%S')\n",
    "\n",
    "  config = {\n",
    "    'epochs': args.epochs,\n",
    "    'batch_size': args.batch_size,\n",
    "    'validation_intervals': args.validation_intervals,\n",
    "    'learning_rate': args.learning_rate,\n",
    "    'early_stop_patience': args.early_stop_patience,\n",
    "    'early_stop_delta': args.early_stop_delta,\n",
    "    'weight_decay': args.weight_decay\n",
    "  }\n",
    "\n",
    "  project_name = \"lstm_regression_btc_krw\"\n",
    "  wandb.init(\n",
    "    mode=\"online\" if args.wandb else \"disabled\",\n",
    "    project=project_name,\n",
    "    notes=\"btc_krw experiment with lstm\",\n",
    "    tags=[\"lstm\", \"regression\", \"btc_krw\"],\n",
    "    name=run_time_str,\n",
    "    config=config\n",
    "  )\n",
    "  print(args)\n",
    "  print(wandb.config)\n",
    "\n",
    "  train_data_loader, validation_data_loader, _ = get_btc_krw_data(sequence_size=21, validation_size=150, is_regression=True)\n",
    "  device = torch.device(\"cuda:0\" if torch.cuda.is_available() else \"cpu\")\n",
    "  print(f\"Training on device {device}.\")\n",
    "\n",
    "  model = get_model(n_input=5, n_output=1, hidden_size=128, num_layers=2)\n",
    "  model.to(device)\n",
    "\n",
    "  optimizer = optim.Adam(model.parameters(), lr=wandb.config.learning_rate, weight_decay=wandb.config.weight_decay)\n",
    "\n",
    "  regression_trainer = RegressionTrainer(\n",
    "    project_name, model, optimizer, train_data_loader, validation_data_loader, None,\n",
    "    run_time_str, wandb, device, CHECKPOINT_a_FILE_PATH\n",
    "  )\n",
    "  regression_trainer.train_loop()\n",
    "  wandb.finish()\n",
    "\n",
    "if __name__ == \"__main__\":\n",
    "  wandb.finish()\n",
    "  main(args)\n"
   ]
  },
  {
   "cell_type": "markdown",
   "id": "89f7039c",
   "metadata": {},
   "source": [
    "### h실행"
   ]
  },
  {
   "cell_type": "code",
   "execution_count": 5,
   "id": "b1f0d5b3",
   "metadata": {},
   "outputs": [],
   "source": [
    "def test(test_model):\n",
    "  _, _, test_data_loader = get_btc_krw_data(test_size = 30)\n",
    "\n",
    "  test_model.eval()\n",
    "\n",
    "  y_normalizer = 100\n",
    "\n",
    "  print(\"[TEST DATA]\")\n",
    "  with torch.no_grad():\n",
    "    for test_batch in test_data_loader:\n",
    "      input_test, target_test = test_batch\n",
    "\n",
    "      output_test = test_model(input_test)\n",
    "\n",
    "    for idx, (output, target) in enumerate(zip(output_test, target_test)):\n",
    "      print(\"{0:2}: {1:6,.2f} <--> {2:6,.2f} (Loss: {3:>13,.2f})\".format(\n",
    "        idx,\n",
    "        output.item() * y_normalizer,\n",
    "        target.item() * y_normalizer,\n",
    "        abs(output.squeeze(dim=-1).item() - target.item()) * y_normalizer\n",
    "      ))\n",
    "\n",
    "\n",
    "def predict_all(test_model):\n",
    "  y_normalizer = 100\n",
    "\n",
    "  X_train, X_validation, X_test, y_train, y_validation, y_test, y_train_date, y_validation_date, y_test_date \\\n",
    "    = get_cryptocurrency_data(\n",
    "      sequence_size=10, validation_size=100, test_size=10,\n",
    "      target_column='Close', y_normalizer=1.0e7, is_regression=True\n",
    "  )\n",
    "\n",
    "  train_crypto_currency_dataset = CryptoCurrencyDataset(X=X_train, y=y_train)\n",
    "  validation_crypto_currency_dataset = CryptoCurrencyDataset(X=X_validation, y=y_validation)\n",
    "  test_crypto_currency_dataset = CryptoCurrencyDataset(X=X_test, y=y_test)\n",
    "\n",
    "  dataset_list = [\n",
    "    train_crypto_currency_dataset, validation_crypto_currency_dataset, test_crypto_currency_dataset\n",
    "  ]\n",
    "  dataset_labels = [\n",
    "    \"train\", \"validation\", \"test\"\n",
    "  ]\n",
    "  num = 0\n",
    "  fig, axs = plt.subplots(3, 1, figsize=(6, 9))\n",
    "\n",
    "  for i in range(3):\n",
    "    X = []\n",
    "    TARGET_Y = []\n",
    "    PREDICTION_Y = []\n",
    "    for data in dataset_list[i]:\n",
    "      input, target = data\n",
    "      prediction = test_model(input.unsqueeze(0)).squeeze(-1).squeeze(-1)\n",
    "\n",
    "      X.append(num)\n",
    "      TARGET_Y.append(target.item() * y_normalizer)\n",
    "      PREDICTION_Y.append(prediction.item() * y_normalizer)\n",
    "\n",
    "      num += 1\n",
    "\n",
    "    axs[i].plot(X, TARGET_Y, label='target')\n",
    "    axs[i].plot(X, PREDICTION_Y, label='prediction')\n",
    "    axs[i].set_title(dataset_labels[i])\n",
    "    axs[i].legend()\n",
    "\n",
    "  plt.tight_layout()\n",
    "  plt.show()"
   ]
  },
  {
   "cell_type": "code",
   "execution_count": 6,
   "id": "b9b89899",
   "metadata": {},
   "outputs": [
    {
     "name": "stdout",
     "output_type": "stream",
     "text": [
      "MODEL FILE: /home/work/checkpoints_a/lstm_regression_btc_krw_checkpoint_latest.pt\n",
      "[TEST DATA]\n",
      " 0: 943.16 <--> 1,047.88 (Loss:        104.72)\n",
      " 1: 1,069.60 <--> 1,286.65 (Loss:        217.05)\n",
      " 2: 1,008.61 <--> 1,243.20 (Loss:        234.58)\n",
      " 3: 1,074.89 <--> 1,254.02 (Loss:        179.13)\n",
      " 4: 1,058.31 <--> 1,271.21 (Loss:        212.90)\n",
      " 5: 1,039.92 <--> 1,272.01 (Loss:        232.09)\n",
      " 6: 1,097.94 <--> 1,302.60 (Loss:        204.66)\n",
      " 7: 918.77 <--> 1,059.85 (Loss:        141.09)\n",
      " 8: 1,065.36 <--> 1,264.13 (Loss:        198.76)\n",
      " 9: 1,087.89 <--> 1,360.09 (Loss:        272.20)\n",
      "10: 1,076.92 <--> 1,380.87 (Loss:        303.95)\n",
      "11: 1,074.76 <--> 1,259.24 (Loss:        184.49)\n",
      "12: 940.63 <--> 959.09 (Loss:         18.46)\n",
      "13: 1,006.55 <--> 1,125.35 (Loss:        118.80)\n",
      "14: 980.99 <--> 1,070.26 (Loss:         89.26)\n",
      "15: 1,089.49 <--> 1,284.38 (Loss:        194.89)\n",
      "16: 1,052.09 <--> 1,224.73 (Loss:        172.63)\n",
      "17: 1,033.46 <--> 1,238.69 (Loss:        205.24)\n",
      "18: 1,084.39 <--> 1,331.62 (Loss:        247.22)\n",
      "19: 1,080.40 <--> 1,390.43 (Loss:        310.03)\n",
      "20: 1,072.31 <--> 1,319.45 (Loss:        247.14)\n",
      "21: 935.24 <--> 948.70 (Loss:         13.46)\n",
      "22: 1,080.22 <--> 1,334.58 (Loss:        254.36)\n",
      "23: 1,097.51 <--> 1,378.05 (Loss:        280.54)\n",
      "24: 906.86 <--> 957.10 (Loss:         50.24)\n",
      "25: 930.14 <--> 956.43 (Loss:         26.29)\n",
      "26: 956.38 <--> 964.63 (Loss:          8.24)\n",
      "27: 911.80 <--> 931.83 (Loss:         20.04)\n",
      "28: 993.11 <--> 1,073.52 (Loss:         80.41)\n",
      "29: 1,091.00 <--> 1,373.29 (Loss:        282.29)\n"
     ]
    },
    {
     "data": {
      "image/png": "[encoded data removed]",
      "text/plain": [
       "<Figure size 600x900 with 3 Axes>"
      ]
     },
     "metadata": {},
     "output_type": "display_data"
    }
   ],
   "source": [
    "def main(args):\n",
    "  run_time_str = datetime.now().astimezone().strftime('%Y-%m-%d_%H-%M-%S')\n",
    "\n",
    "  config = {\n",
    "    'epochs': args.epochs,\n",
    "    'batch_size': args.batch_size,\n",
    "    'validation_intervals': args.validation_intervals,\n",
    "    'learning_rate': args.learning_rate,\n",
    "    'early_stop_patience': args.early_stop_patience,\n",
    "    'early_stop_delta': args.early_stop_delta,\n",
    "  }\n",
    "\n",
    "  project_name = \"lstm_regression_btc_krw\"\n",
    "  wandb.init(\n",
    "    mode=\"disabled\",\n",
    "    project=project_name,\n",
    "    notes=\"btc_krw experiment with lstm\",\n",
    "    tags=[\"lstm\", \"regression\", \"btc_krw\"],\n",
    "    name=run_time_str,\n",
    "    config=config\n",
    "  )\n",
    "\n",
    "  test_model = get_model(n_input=5, n_output=1, hidden_size=128, num_layers=2)\n",
    "\n",
    "  project_name = \"lstm_regression_btc_krw\"\n",
    "  latest_file_path = os.path.join(\n",
    "    CHECKPOINT_a_FILE_PATH, f\"{project_name}_checkpoint_latest.pt\"\n",
    "  )\n",
    "  print(\"MODEL FILE: {0}\".format(latest_file_path))\n",
    "  test_model.load_state_dict(torch.load(latest_file_path, map_location=torch.device('cpu')))\n",
    "\n",
    "  test(test_model)\n",
    "  predict_all(test_model)\n",
    "\n",
    "if __name__ == \"__main__\":\n",
    "  main(args)"
   ]
  },
  {
   "cell_type": "markdown",
   "id": "59baaf4f",
   "metadata": {},
   "source": [
    "### i 실행"
   ]
  },
  {
   "cell_type": "code",
   "execution_count": 8,
   "id": "ddc9d749",
   "metadata": {},
   "outputs": [
    {
     "name": "stderr",
     "output_type": "stream",
     "text": [
      "/usr/local/lib/python3.10/dist-packages/pydantic/main.py:314: UserWarning: Pydantic serializer warnings:\n",
      "  Expected `list[str]` but got `tuple` - serialized value may not be as expected\n",
      "  return self.__pydantic_serializer__.to_python(\n",
      "/usr/local/lib/python3.10/dist-packages/pydantic/main.py:314: UserWarning: Pydantic serializer warnings:\n",
      "  Expected `list[str]` but got `tuple` - serialized value may not be as expected\n",
      "  return self.__pydantic_serializer__.to_python(\n"
     ]
    },
    {
     "data": {
      "text/html": [
       "Tracking run with wandb version 0.19.1"
      ],
      "text/plain": [
       "<IPython.core.display.HTML object>"
      ]
     },
     "metadata": {},
     "output_type": "display_data"
    },
    {
     "data": {
      "text/html": [
       "Run data is saved locally in <code>/home/work/wandb/run-20241220_072034-s17pnb2s</code>"
      ],
      "text/plain": [
       "<IPython.core.display.HTML object>"
      ]
     },
     "metadata": {},
     "output_type": "display_data"
    },
    {
     "data": {
      "text/html": [
       "Syncing run <strong><a href='https://wandb.ai/marching12-korea-university-of-technology-and-education/lstm_classification_btc_krw/runs/s17pnb2s' target=\"_blank\">2024-12-20_07-20-34</a></strong> to <a href='https://wandb.ai/marching12-korea-university-of-technology-and-education/lstm_classification_btc_krw' target=\"_blank\">Weights & Biases</a> (<a href='https://wandb.me/developer-guide' target=\"_blank\">docs</a>)<br>"
      ],
      "text/plain": [
       "<IPython.core.display.HTML object>"
      ]
     },
     "metadata": {},
     "output_type": "display_data"
    },
    {
     "data": {
      "text/html": [
       " View project at <a href='https://wandb.ai/marching12-korea-university-of-technology-and-education/lstm_classification_btc_krw' target=\"_blank\">https://wandb.ai/marching12-korea-university-of-technology-and-education/lstm_classification_btc_krw</a>"
      ],
      "text/plain": [
       "<IPython.core.display.HTML object>"
      ]
     },
     "metadata": {},
     "output_type": "display_data"
    },
    {
     "data": {
      "text/html": [
       " View run at <a href='https://wandb.ai/marching12-korea-university-of-technology-and-education/lstm_classification_btc_krw/runs/s17pnb2s' target=\"_blank\">https://wandb.ai/marching12-korea-university-of-technology-and-education/lstm_classification_btc_krw/runs/s17pnb2s</a>"
      ],
      "text/plain": [
       "<IPython.core.display.HTML object>"
      ]
     },
     "metadata": {},
     "output_type": "display_data"
    },
    {
     "name": "stdout",
     "output_type": "stream",
     "text": [
      "Namespace(wandb=True, batch_size=32, epochs=1000, learning_rate=0.001, weight_decay=0.0, validation_intervals=5, early_stop_patience=30, early_stop_delta=0.0001)\n",
      "{'epochs': 1000, 'batch_size': 32, 'validation_intervals': 5, 'learning_rate': 0.001, 'early_stop_patience': 30, 'early_stop_delta': 0.0001, 'weight_decay': 0.0}\n",
      "Training on device cuda:0.\n",
      "[Epoch   1] T_loss: 0.69217, T_accuracy: 52.9180 | V_loss: 0.69158, V_accuracy: 53.3333 | Early stopping is stated! | T_time: 00:00:00, T_speed: 0.000\n",
      "[Epoch   5] T_loss: 0.69152, T_accuracy: 52.8616 | V_loss: 0.69147, V_accuracy: 53.3333 | V_loss decreased (0.69158 --> 0.69147). Saving model... | T_time: 00:00:03, T_speed: 1.667\n",
      "[Epoch  10] T_loss: 0.69175, T_accuracy: 52.6924 | V_loss: 0.69262, V_accuracy: 51.3333 | Early stopping counter: 1 out of 30 | T_time: 00:00:07, T_speed: 1.429\n",
      "[Epoch  15] T_loss: 0.69132, T_accuracy: 52.9180 | V_loss: 0.69132, V_accuracy: 53.3333 | V_loss decreased (0.69147 --> 0.69132). Saving model... | T_time: 00:00:10, T_speed: 1.500\n",
      "[Epoch  20] T_loss: 0.69136, T_accuracy: 52.3541 | V_loss: 0.69678, V_accuracy: 46.6667 | Early stopping counter: 1 out of 30 | T_time: 00:00:14, T_speed: 1.429\n",
      "[Epoch  25] T_loss: 0.69127, T_accuracy: 52.6078 | V_loss: 0.69164, V_accuracy: 53.3333 | Early stopping counter: 2 out of 30 | T_time: 00:00:17, T_speed: 1.471\n",
      "[Epoch  30] T_loss: 0.69158, T_accuracy: 52.9180 | V_loss: 0.69130, V_accuracy: 53.3333 | Early stopping counter: 3 out of 30 | T_time: 00:00:21, T_speed: 1.429\n",
      "[Epoch  35] T_loss: 0.69156, T_accuracy: 52.9180 | V_loss: 0.69121, V_accuracy: 53.3333 | V_loss decreased (0.69132 --> 0.69121). Saving model... | T_time: 00:00:24, T_speed: 1.458\n",
      "[Epoch  40] T_loss: 0.69168, T_accuracy: 52.9180 | V_loss: 0.69086, V_accuracy: 53.3333 | V_loss decreased (0.69121 --> 0.69086). Saving model... | T_time: 00:00:28, T_speed: 1.429\n",
      "[Epoch  45] T_loss: 0.69157, T_accuracy: 52.9180 | V_loss: 0.69123, V_accuracy: 53.3333 | Early stopping counter: 1 out of 30 | T_time: 00:00:31, T_speed: 1.452\n",
      "[Epoch  50] T_loss: 0.69150, T_accuracy: 52.9180 | V_loss: 0.69223, V_accuracy: 53.3333 | Early stopping counter: 2 out of 30 | T_time: 00:00:35, T_speed: 1.429\n",
      "[Epoch  55] T_loss: 0.69165, T_accuracy: 52.9180 | V_loss: 0.69086, V_accuracy: 53.3333 | Early stopping counter: 3 out of 30 | T_time: 00:00:38, T_speed: 1.447\n",
      "[Epoch  60] T_loss: 0.69150, T_accuracy: 52.9180 | V_loss: 0.69120, V_accuracy: 53.3333 | Early stopping counter: 4 out of 30 | T_time: 00:00:42, T_speed: 1.429\n",
      "[Epoch  65] T_loss: 0.69147, T_accuracy: 52.9180 | V_loss: 0.69186, V_accuracy: 53.3333 | Early stopping counter: 5 out of 30 | T_time: 00:00:45, T_speed: 1.444\n",
      "[Epoch  70] T_loss: 0.69151, T_accuracy: 52.9180 | V_loss: 0.69154, V_accuracy: 53.3333 | Early stopping counter: 6 out of 30 | T_time: 00:00:49, T_speed: 1.429\n",
      "[Epoch  75] T_loss: 0.69144, T_accuracy: 52.9180 | V_loss: 0.69191, V_accuracy: 53.3333 | Early stopping counter: 7 out of 30 | T_time: 00:00:53, T_speed: 1.415\n",
      "[Epoch  80] T_loss: 0.69156, T_accuracy: 52.9180 | V_loss: 0.69085, V_accuracy: 53.3333 | Early stopping counter: 8 out of 30 | T_time: 00:00:56, T_speed: 1.429\n",
      "[Epoch  85] T_loss: 0.69151, T_accuracy: 52.9180 | V_loss: 0.69189, V_accuracy: 53.3333 | Early stopping counter: 9 out of 30 | T_time: 00:01:00, T_speed: 1.417\n",
      "[Epoch  90] T_loss: 0.69150, T_accuracy: 52.9180 | V_loss: 0.69053, V_accuracy: 53.3333 | V_loss decreased (0.69086 --> 0.69053). Saving model... | T_time: 00:01:03, T_speed: 1.429\n",
      "[Epoch  95] T_loss: 0.69156, T_accuracy: 52.9180 | V_loss: 0.69049, V_accuracy: 53.3333 | Early stopping counter: 1 out of 30 | T_time: 00:01:07, T_speed: 1.418\n",
      "[Epoch 100] T_loss: 0.69151, T_accuracy: 52.9180 | V_loss: 0.69153, V_accuracy: 53.3333 | Early stopping counter: 2 out of 30 | T_time: 00:01:10, T_speed: 1.429\n",
      "[Epoch 105] T_loss: 0.69150, T_accuracy: 52.9180 | V_loss: 0.69120, V_accuracy: 53.3333 | Early stopping counter: 3 out of 30 | T_time: 00:01:14, T_speed: 1.419\n",
      "[Epoch 110] T_loss: 0.69153, T_accuracy: 52.9180 | V_loss: 0.69123, V_accuracy: 53.3333 | Early stopping counter: 4 out of 30 | T_time: 00:01:17, T_speed: 1.429\n",
      "[Epoch 115] T_loss: 0.69113, T_accuracy: 52.9180 | V_loss: 0.69257, V_accuracy: 53.3333 | Early stopping counter: 5 out of 30 | T_time: 00:01:21, T_speed: 1.420\n",
      "[Epoch 120] T_loss: 0.69104, T_accuracy: 52.9180 | V_loss: 0.69146, V_accuracy: 53.3333 | Early stopping counter: 6 out of 30 | T_time: 00:01:24, T_speed: 1.429\n",
      "[Epoch 125] T_loss: 0.69103, T_accuracy: 52.9180 | V_loss: 0.69232, V_accuracy: 53.3333 | Early stopping counter: 7 out of 30 | T_time: 00:01:28, T_speed: 1.420\n",
      "[Epoch 130] T_loss: 0.69092, T_accuracy: 52.9180 | V_loss: 0.69252, V_accuracy: 53.3333 | Early stopping counter: 8 out of 30 | T_time: 00:01:32, T_speed: 1.413\n",
      "[Epoch 135] T_loss: 0.69078, T_accuracy: 52.8052 | V_loss: 0.69177, V_accuracy: 53.3333 | Early stopping counter: 9 out of 30 | T_time: 00:01:35, T_speed: 1.421\n",
      "[Epoch 140] T_loss: 0.69073, T_accuracy: 52.6924 | V_loss: 0.69228, V_accuracy: 53.3333 | Early stopping counter: 10 out of 30 | T_time: 00:01:39, T_speed: 1.414\n",
      "[Epoch 145] T_loss: 0.69171, T_accuracy: 52.5233 | V_loss: 0.69226, V_accuracy: 53.3333 | Early stopping counter: 11 out of 30 | T_time: 00:01:42, T_speed: 1.422\n",
      "[Epoch 150] T_loss: 0.69075, T_accuracy: 53.0589 | V_loss: 0.69411, V_accuracy: 46.6667 | Early stopping counter: 12 out of 30 | T_time: 00:01:46, T_speed: 1.415\n",
      "[Epoch 155] T_loss: 0.69155, T_accuracy: 52.9180 | V_loss: 0.69089, V_accuracy: 53.3333 | Early stopping counter: 13 out of 30 | T_time: 00:01:49, T_speed: 1.422\n",
      "[Epoch 160] T_loss: 0.69162, T_accuracy: 52.9180 | V_loss: 0.69122, V_accuracy: 53.3333 | Early stopping counter: 14 out of 30 | T_time: 00:01:53, T_speed: 1.416\n",
      "[Epoch 165] T_loss: 0.69149, T_accuracy: 52.9180 | V_loss: 0.69090, V_accuracy: 53.3333 | Early stopping counter: 15 out of 30 | T_time: 00:01:56, T_speed: 1.422\n",
      "[Epoch 170] T_loss: 0.69155, T_accuracy: 52.9180 | V_loss: 0.69154, V_accuracy: 53.3333 | Early stopping counter: 16 out of 30 | T_time: 00:02:00, T_speed: 1.417\n",
      "[Epoch 175] T_loss: 0.69154, T_accuracy: 52.9180 | V_loss: 0.69052, V_accuracy: 53.3333 | Early stopping counter: 17 out of 30 | T_time: 00:02:03, T_speed: 1.423\n",
      "[Epoch 180] T_loss: 0.69154, T_accuracy: 52.9180 | V_loss: 0.69186, V_accuracy: 53.3333 | Early stopping counter: 18 out of 30 | T_time: 00:02:07, T_speed: 1.417\n",
      "[Epoch 185] T_loss: 0.69148, T_accuracy: 52.9180 | V_loss: 0.69249, V_accuracy: 53.3333 | Early stopping counter: 19 out of 30 | T_time: 00:02:10, T_speed: 1.423\n",
      "[Epoch 190] T_loss: 0.69156, T_accuracy: 52.9180 | V_loss: 0.69154, V_accuracy: 53.3333 | Early stopping counter: 20 out of 30 | T_time: 00:02:14, T_speed: 1.418\n",
      "[Epoch 195] T_loss: 0.69155, T_accuracy: 52.9180 | V_loss: 0.69088, V_accuracy: 53.3333 | Early stopping counter: 21 out of 30 | T_time: 00:02:17, T_speed: 1.423\n",
      "[Epoch 200] T_loss: 0.69159, T_accuracy: 52.9180 | V_loss: 0.69121, V_accuracy: 53.3333 | Early stopping counter: 22 out of 30 | T_time: 00:02:21, T_speed: 1.418\n",
      "[Epoch 205] T_loss: 0.69153, T_accuracy: 52.9180 | V_loss: 0.69062, V_accuracy: 53.3333 | Early stopping counter: 23 out of 30 | T_time: 00:02:24, T_speed: 1.424\n",
      "[Epoch 210] T_loss: 0.69158, T_accuracy: 52.9180 | V_loss: 0.69086, V_accuracy: 53.3333 | Early stopping counter: 24 out of 30 | T_time: 00:02:28, T_speed: 1.419\n",
      "[Epoch 215] T_loss: 0.69134, T_accuracy: 52.9180 | V_loss: 0.69223, V_accuracy: 53.3333 | Early stopping counter: 25 out of 30 | T_time: 00:02:31, T_speed: 1.424\n",
      "[Epoch 220] T_loss: 0.69132, T_accuracy: 52.9180 | V_loss: 0.69191, V_accuracy: 53.3333 | Early stopping counter: 26 out of 30 | T_time: 00:02:35, T_speed: 1.419\n",
      "[Epoch 225] T_loss: 0.69128, T_accuracy: 52.7206 | V_loss: 0.69134, V_accuracy: 53.3333 | Early stopping counter: 27 out of 30 | T_time: 00:02:38, T_speed: 1.424\n",
      "[Epoch 230] T_loss: 0.69105, T_accuracy: 52.9180 | V_loss: 0.69242, V_accuracy: 53.3333 | Early stopping counter: 28 out of 30 | T_time: 00:02:42, T_speed: 1.420\n",
      "[Epoch 235] T_loss: 0.69080, T_accuracy: 52.8334 | V_loss: 0.69310, V_accuracy: 52.0000 | Early stopping counter: 29 out of 30 | T_time: 00:02:45, T_speed: 1.424\n",
      "[Epoch 240] T_loss: 0.69083, T_accuracy: 52.8334 | V_loss: 0.69284, V_accuracy: 53.3333 | Early stopping counter: 30 out of 30 *** TRAIN EARLY STOPPED! *** | T_time: 00:02:49, T_speed: 1.420\n",
      "Final training time: 00:02:49\n"
     ]
    },
    {
     "data": {
      "text/html": [],
      "text/plain": [
       "<IPython.core.display.HTML object>"
      ]
     },
     "metadata": {},
     "output_type": "display_data"
    },
    {
     "data": {
      "text/html": [
       "<br>    <style><br>        .wandb-row {<br>            display: flex;<br>            flex-direction: row;<br>            flex-wrap: wrap;<br>            justify-content: flex-start;<br>            width: 100%;<br>        }<br>        .wandb-col {<br>            display: flex;<br>            flex-direction: column;<br>            flex-basis: 100%;<br>            flex: 1;<br>            padding: 10px;<br>        }<br>    </style><br><div class=\"wandb-row\"><div class=\"wandb-col\"><h3>Run history:</h3><br/><table class=\"wandb\"><tr><td>Epoch</td><td>▁▁▁▁▂▂▂▂▂▂▃▃▃▃▃▄▄▄▄▄▅▅▅▅▅▆▆▆▆▆▆▇▇▇▇▇▇███</td></tr><tr><td>Training accuracy (%)</td><td>▇▅█▁▄█████████████████▇▅▃████████████▆█▇</td></tr><tr><td>Training loss</td><td>█▅▆▄▄▅▅▆▅▅▅▅▅▄▅▅▅▅▅▃▂▂▁▁▆▅▅▅▅▅▅▅▅▅▅▄▄▄▃▁</td></tr><tr><td>Training speed (epochs/sec.)</td><td>▁█▇▇▇▇▇▇▇▇▇▇▇▇▇▇▇▇▇▇▇▇▇▇▇▇▇▇▇▇▇▇▇▇▇▇▇▇▇▇</td></tr><tr><td>Validation accuracy (%)</td><td>██▆█▁████████████████████▁██████████████</td></tr><tr><td>Validation loss</td><td>▂▂▃▂█▂▂▁▂▃▂▃▂▃▁▁▁▂▂▂▂▃▃▂▃▁▂▁▂▁▃▂▁▂▁▃▃▂▃▄</td></tr></table><br/></div><div class=\"wandb-col\"><h3>Run summary:</h3><br/><table class=\"wandb\"><tr><td>Epoch</td><td>240</td></tr><tr><td>Training accuracy (%)</td><td>52.83338</td></tr><tr><td>Training loss</td><td>0.69083</td></tr><tr><td>Training speed (epochs/sec.)</td><td>1.42012</td></tr><tr><td>Validation accuracy (%)</td><td>53.33333</td></tr><tr><td>Validation loss</td><td>0.69284</td></tr></table><br/></div></div>"
      ],
      "text/plain": [
       "<IPython.core.display.HTML object>"
      ]
     },
     "metadata": {},
     "output_type": "display_data"
    },
    {
     "data": {
      "text/html": [
       " View run <strong style=\"color:#cdcd00\">2024-12-20_07-20-34</strong> at: <a href='https://wandb.ai/marching12-korea-university-of-technology-and-education/lstm_classification_btc_krw/runs/s17pnb2s' target=\"_blank\">https://wandb.ai/marching12-korea-university-of-technology-and-education/lstm_classification_btc_krw/runs/s17pnb2s</a><br> View project at: <a href='https://wandb.ai/marching12-korea-university-of-technology-and-education/lstm_classification_btc_krw' target=\"_blank\">https://wandb.ai/marching12-korea-university-of-technology-and-education/lstm_classification_btc_krw</a><br>Synced 5 W&B file(s), 0 media file(s), 0 artifact file(s) and 0 other file(s)"
      ],
      "text/plain": [
       "<IPython.core.display.HTML object>"
      ]
     },
     "metadata": {},
     "output_type": "display_data"
    },
    {
     "data": {
      "text/html": [
       "Find logs at: <code>./wandb/run-20241220_072034-s17pnb2s/logs</code>"
      ],
      "text/plain": [
       "<IPython.core.display.HTML object>"
      ]
     },
     "metadata": {},
     "output_type": "display_data"
    }
   ],
   "source": [
    "from _01_code._08_fcn_best_practice.c_trainer import ClassificationTrainer\n",
    "CHECKPOINT_b_FILE_PATH = os.path.join(CURRENT_FILE_PATH, \"checkpoints_b\")\n",
    "if not os.path.isdir(CHECKPOINT_b_FILE_PATH):\n",
    "    os.makedirs(CHECKPOINT_b_FILE_PATH)\n",
    "\n",
    "sys.argv = ['ipykernel_launcher.py',\n",
    "            '--wandb', '--epochs=1000',\n",
    "            '--batch_size=32',\n",
    "            '--learning_rate=0.001',\n",
    "            '--validation_intervals=5',\n",
    "            '--early_stop_patience=30',\n",
    "            '--early_stop_delta=0.0001',\n",
    "            '--weight_decay=0.01' ]\n",
    "def main(args):\n",
    "  run_time_str = datetime.now().astimezone().strftime('%Y-%m-%d_%H-%M-%S')\n",
    "\n",
    "  config = {\n",
    "    'epochs': args.epochs,\n",
    "    'batch_size': args.batch_size,\n",
    "    'validation_intervals': args.validation_intervals,\n",
    "    'learning_rate': args.learning_rate,\n",
    "    'early_stop_patience': args.early_stop_patience,\n",
    "    'early_stop_delta': args.early_stop_delta,\n",
    "    'weight_decay': args.weight_decay\n",
    "  }\n",
    "\n",
    "  project_name = \"lstm_classification_btc_krw\"\n",
    "  wandb.init(\n",
    "    mode=\"online\" if args.wandb else \"disabled\",\n",
    "    project=project_name,\n",
    "    notes=\"btc_krw experiment with lstm\",\n",
    "    tags=[\"lstm\", \"classification\", \"btc_krw\"],\n",
    "    name=run_time_str,\n",
    "    config=config\n",
    "  )\n",
    "  print(args)\n",
    "  print(wandb.config)\n",
    "\n",
    "  train_data_loader, validation_data_loader, _ =get_btc_krw_data(sequence_size=21, validation_size=150, is_regression=False)\n",
    "  device = torch.device(\"cuda:0\" if torch.cuda.is_available() else \"cpu\")\n",
    "  print(f\"Training on device {device}.\")\n",
    "\n",
    "  model = get_model(n_input=5, n_output=2, hidden_size=256, num_layers=3)\n",
    "  model.to(device)\n",
    "\n",
    "  optimizer = optim.Adam(model.parameters(), lr=wandb.config.learning_rate, weight_decay=wandb.config.weight_decay)\n",
    "\n",
    "  classification_trainer = ClassificationTrainer(\n",
    "    project_name, model, optimizer, train_data_loader, validation_data_loader, None,\n",
    "    run_time_str, wandb, device, CHECKPOINT_b_FILE_PATH\n",
    "  )\n",
    "  classification_trainer.train_loop()\n",
    "\n",
    "  wandb.finish()\n",
    "\n",
    "\n",
    "if __name__ == \"__main__\":\n",
    "  wandb.finish()\n",
    "  main(args)"
   ]
  },
  {
   "cell_type": "markdown",
   "id": "b14d7f0e",
   "metadata": {},
   "source": [
    "### j 실행"
   ]
  },
  {
   "cell_type": "code",
   "execution_count": 10,
   "id": "cb938911",
   "metadata": {},
   "outputs": [],
   "source": [
    "def testj(test_model):\n",
    "  _, _, test_data_loader = get_btc_krw_data(test_size=30, is_regression=False)\n",
    "\n",
    "  test_model.eval()\n",
    "\n",
    "  num_corrects_test = 0\n",
    "  num_tested_samples = 0\n",
    "\n",
    "  print(\"[TEST DATA]\")\n",
    "  with torch.no_grad():\n",
    "    for test_batch in test_data_loader:\n",
    "      input_test, target_test = test_batch\n",
    "\n",
    "      output_test = test_model(input_test)\n",
    "\n",
    "      predicted_test = torch.argmax(output_test, dim=1)\n",
    "      num_corrects_test += torch.sum(torch.eq(predicted_test, target_test))\n",
    "\n",
    "      num_tested_samples += len(input_test)\n",
    "\n",
    "    test_accuracy = 100.0 * num_corrects_test / num_tested_samples\n",
    "\n",
    "    print(f\"TEST RESULTS: {test_accuracy:6.3f}%\")\n",
    "\n",
    "    for idx, (output, target) in enumerate(zip(output_test, target_test)):\n",
    "      print(\"{0:2}: {1:6,.2f} <--> {2:6,.2f}\".format(\n",
    "        idx, torch.argmax(output).item(), target.item()\n",
    "      ))"
   ]
  },
  {
   "cell_type": "code",
   "execution_count": 11,
   "id": "0b5fc8f9",
   "metadata": {},
   "outputs": [
    {
     "name": "stdout",
     "output_type": "stream",
     "text": [
      "MODEL FILE: /home/work/checkpoints_b/lstm_classification_btc_krw_checkpoint_latest.pt\n",
      "[TEST DATA]\n",
      "TEST RESULTS: 53.333%\n",
      " 0:   1.00 <-->   1.00\n",
      " 1:   1.00 <-->   0.00\n",
      " 2:   1.00 <-->   1.00\n",
      " 3:   1.00 <-->   0.00\n",
      " 4:   1.00 <-->   0.00\n",
      " 5:   1.00 <-->   1.00\n",
      " 6:   1.00 <-->   0.00\n",
      " 7:   1.00 <-->   1.00\n",
      " 8:   1.00 <-->   1.00\n",
      " 9:   1.00 <-->   0.00\n",
      "10:   1.00 <-->   0.00\n",
      "11:   1.00 <-->   0.00\n",
      "12:   1.00 <-->   0.00\n",
      "13:   1.00 <-->   0.00\n",
      "14:   1.00 <-->   1.00\n",
      "15:   1.00 <-->   0.00\n",
      "16:   1.00 <-->   1.00\n",
      "17:   1.00 <-->   1.00\n",
      "18:   1.00 <-->   1.00\n",
      "19:   1.00 <-->   1.00\n",
      "20:   1.00 <-->   0.00\n",
      "21:   1.00 <-->   1.00\n",
      "22:   1.00 <-->   1.00\n",
      "23:   1.00 <-->   0.00\n",
      "24:   1.00 <-->   0.00\n",
      "25:   1.00 <-->   1.00\n",
      "26:   1.00 <-->   1.00\n",
      "27:   1.00 <-->   0.00\n",
      "28:   1.00 <-->   1.00\n",
      "29:   1.00 <-->   1.00\n"
     ]
    }
   ],
   "source": [
    "def main(args):\n",
    "  run_time_str = datetime.now().astimezone().strftime('%Y-%m-%d_%H-%M-%S')\n",
    "\n",
    "  config = {\n",
    "    'epochs': args.epochs,\n",
    "    'batch_size': args.batch_size,\n",
    "    'validation_intervals': args.validation_intervals,\n",
    "    'learning_rate': args.learning_rate,\n",
    "    'early_stop_patience': args.early_stop_patience,\n",
    "    'early_stop_delta': args.early_stop_delta,\n",
    "  }\n",
    "\n",
    "  project_name = \"lstm_classification_btc_krw\"\n",
    "  wandb.init(\n",
    "    mode=\"disabled\",\n",
    "    project=project_name,\n",
    "    notes=\"btc_krw experiment with lstm\",\n",
    "    tags=[\"lstm\", \"regression\", \"btc_krw\"],\n",
    "    name=run_time_str,\n",
    "    config=config\n",
    "  )\n",
    "\n",
    "  test_model = get_model(n_input=5, n_output=2, hidden_size=256, num_layers=3)\n",
    "\n",
    "  latest_file_path = os.path.join(\n",
    "    CHECKPOINT_b_FILE_PATH, f\"{project_name}_checkpoint_latest.pt\"\n",
    "  )\n",
    "  print(\"MODEL FILE: {0}\".format(latest_file_path))\n",
    "  test_model.load_state_dict(torch.load(latest_file_path, map_location=torch.device('cpu')))\n",
    "\n",
    "  testj(test_model)\n",
    "\n",
    "\n",
    "if __name__ == \"__main__\":\n",
    "    wandb.finish()\n",
    "    main(args)"
   ]
  },
  {
   "cell_type": "markdown",
   "id": "a3bfc66d",
   "metadata": {},
   "source": [
    "### 문제2"
   ]
  },
  {
   "cell_type": "code",
   "execution_count": 12,
   "id": "0bb50ed1",
   "metadata": {},
   "outputs": [],
   "source": [
    "def get_model_new(n_input=5, n_output=1, hidden_size=128, n_lstm_layers=2, n_linear_layers=1, dropout_rate=0.3):\n",
    "    class MyModel(nn.Module):\n",
    "        def __init__(self):\n",
    "            super().__init__()\n",
    "            self.lstm = nn.LSTM(input_size=n_input, hidden_size=hidden_size, num_layers=n_lstm_layers, batch_first=True, dropout=dropout_rate)\n",
    "            linear_layers = [nn.Linear(hidden_size if i == 0 else 64, 64 if i < n_linear_layers - 1 else n_output) for i in range(n_linear_layers)]\n",
    "            self.linear_layers = nn.Sequential(*linear_layers)\n",
    "\n",
    "        def forward(self, x):\n",
    "            x, _ = self.lstm(x)\n",
    "            x = x[:, -1, :]  # 마지막 시퀀스 출력\n",
    "            x = self.linear_layers(x)\n",
    "            return x\n",
    "\n",
    "    return MyModel()"
   ]
  },
  {
   "cell_type": "code",
   "execution_count": 29,
   "id": "fc651280",
   "metadata": {},
   "outputs": [
    {
     "name": "stderr",
     "output_type": "stream",
     "text": [
      "/usr/local/lib/python3.10/dist-packages/pydantic/main.py:314: UserWarning: Pydantic serializer warnings:\n",
      "  Expected `list[str]` but got `tuple` - serialized value may not be as expected\n",
      "  return self.__pydantic_serializer__.to_python(\n",
      "/usr/local/lib/python3.10/dist-packages/pydantic/main.py:314: UserWarning: Pydantic serializer warnings:\n",
      "  Expected `list[str]` but got `tuple` - serialized value may not be as expected\n",
      "  return self.__pydantic_serializer__.to_python(\n"
     ]
    },
    {
     "data": {
      "text/html": [
       "Tracking run with wandb version 0.19.1"
      ],
      "text/plain": [
       "<IPython.core.display.HTML object>"
      ]
     },
     "metadata": {},
     "output_type": "display_data"
    },
    {
     "data": {
      "text/html": [
       "Run data is saved locally in <code>/home/work/wandb/run-20241220_095047-amx053xe</code>"
      ],
      "text/plain": [
       "<IPython.core.display.HTML object>"
      ]
     },
     "metadata": {},
     "output_type": "display_data"
    },
    {
     "data": {
      "text/html": [
       "Syncing run <strong><a href='https://wandb.ai/marching12-korea-university-of-technology-and-education/lstm_regression_btc_krw_new/runs/amx053xe' target=\"_blank\">2024-12-20_09-50-47</a></strong> to <a href='https://wandb.ai/marching12-korea-university-of-technology-and-education/lstm_regression_btc_krw_new' target=\"_blank\">Weights & Biases</a> (<a href='https://wandb.me/developer-guide' target=\"_blank\">docs</a>)<br>"
      ],
      "text/plain": [
       "<IPython.core.display.HTML object>"
      ]
     },
     "metadata": {},
     "output_type": "display_data"
    },
    {
     "data": {
      "text/html": [
       " View project at <a href='https://wandb.ai/marching12-korea-university-of-technology-and-education/lstm_regression_btc_krw_new' target=\"_blank\">https://wandb.ai/marching12-korea-university-of-technology-and-education/lstm_regression_btc_krw_new</a>"
      ],
      "text/plain": [
       "<IPython.core.display.HTML object>"
      ]
     },
     "metadata": {},
     "output_type": "display_data"
    },
    {
     "data": {
      "text/html": [
       " View run at <a href='https://wandb.ai/marching12-korea-university-of-technology-and-education/lstm_regression_btc_krw_new/runs/amx053xe' target=\"_blank\">https://wandb.ai/marching12-korea-university-of-technology-and-education/lstm_regression_btc_krw_new/runs/amx053xe</a>"
      ],
      "text/plain": [
       "<IPython.core.display.HTML object>"
      ]
     },
     "metadata": {},
     "output_type": "display_data"
    },
    {
     "name": "stdout",
     "output_type": "stream",
     "text": [
      "[Epoch   1] T_loss: 0.89983, V_loss: 0.36817, Early stopping is stated! | T_time: 00:00:00, T_speed: 0.001\n",
      "[Epoch   5] T_loss: 0.04000, V_loss: 0.12434, V_loss decreased (0.36817 --> 0.12434). Saving model... | T_time: 00:00:03, T_speed: 0.008\n",
      "[Epoch  10] T_loss: 0.03105, V_loss: 0.31741, Early stopping counter: 1 out of 30 | T_time: 00:00:07, T_speed: 0.033\n",
      "[Epoch  15] T_loss: 0.02597, V_loss: 0.09744, V_loss decreased (0.12434 --> 0.09744). Saving model... | T_time: 00:00:10, T_speed: 0.016\n",
      "[Epoch  20] T_loss: 0.02481, V_loss: 0.07271, V_loss decreased (0.09744 --> 0.07271). Saving model... | T_time: 00:00:14, T_speed: 0.032\n",
      "[Epoch  25] T_loss: 0.02862, V_loss: 0.07584, Early stopping counter: 1 out of 30 | T_time: 00:00:18, T_speed: 0.085\n",
      "[Epoch  30] T_loss: 0.02538, V_loss: 0.06985, V_loss decreased (0.07271 --> 0.06985). Saving model... | T_time: 00:00:21, T_speed: 0.032\n",
      "[Epoch  35] T_loss: 0.02567, V_loss: 0.17899, Early stopping counter: 1 out of 30 | T_time: 00:00:25, T_speed: 0.058\n",
      "[Epoch  40] T_loss: 0.02023, V_loss: 0.07496, Early stopping counter: 2 out of 30 | T_time: 00:00:29, T_speed: 0.157\n",
      "[Epoch  45] T_loss: 0.02760, V_loss: 0.12631, Early stopping counter: 3 out of 30 | T_time: 00:00:32, T_speed: 0.050\n",
      "[Epoch  50] T_loss: 0.01807, V_loss: 0.06899, V_loss decreased (0.06985 --> 0.06899). Saving model... | T_time: 00:00:36, T_speed: 0.090\n",
      "[Epoch  55] T_loss: 0.02386, V_loss: 0.07542, Early stopping counter: 1 out of 30 | T_time: 00:00:40, T_speed: 0.253\n",
      "[Epoch  60] T_loss: 0.01866, V_loss: 0.07266, Early stopping counter: 2 out of 30 | T_time: 00:00:43, T_speed: 0.069\n",
      "[Epoch  65] T_loss: 0.02040, V_loss: 0.11316, Early stopping counter: 3 out of 30 | T_time: 00:00:47, T_speed: 0.127\n",
      "[Epoch  70] T_loss: 0.01900, V_loss: 0.14002, Early stopping counter: 4 out of 30 | T_time: 00:00:51, T_speed: 0.417\n",
      "[Epoch  75] T_loss: 0.02839, V_loss: 0.25867, Early stopping counter: 5 out of 30 | T_time: 00:00:54, T_speed: 0.092\n",
      "[Epoch  80] T_loss: 0.02000, V_loss: 0.12959, Early stopping counter: 6 out of 30 | T_time: 00:00:58, T_speed: 0.172\n",
      "[Epoch  85] T_loss: 0.02245, V_loss: 0.08076, Early stopping counter: 7 out of 30 | T_time: 00:01:02, T_speed: 0.775\n",
      "[Epoch  90] T_loss: 0.01670, V_loss: 0.12090, Early stopping counter: 8 out of 30 | T_time: 00:01:05, T_speed: 0.121\n",
      "[Epoch  95] T_loss: 0.01747, V_loss: 0.09199, Early stopping counter: 9 out of 30 | T_time: 00:01:09, T_speed: 0.242\n",
      "[Epoch 100] T_loss: 0.01795, V_loss: 0.07417, Early stopping counter: 10 out of 30 | T_time: 00:01:13, T_speed: 2.447\n",
      "[Epoch 105] T_loss: 0.01805, V_loss: 0.11190, Early stopping counter: 11 out of 30 | T_time: 00:01:16, T_speed: 0.153\n",
      "[Epoch 110] T_loss: 0.01737, V_loss: 0.06619, V_loss decreased (0.06899 --> 0.06619). Saving model... | T_time: 00:01:20, T_speed: 0.310\n",
      "[Epoch 115] T_loss: 0.01764, V_loss: 0.12682, Early stopping counter: 1 out of 30 | T_time: 00:01:24, T_speed: 2.313\n",
      "[Epoch 120] T_loss: 0.02149, V_loss: 0.11640, Early stopping counter: 2 out of 30 | T_time: 00:01:27, T_speed: 0.169\n",
      "[Epoch 125] T_loss: 0.01730, V_loss: 0.07305, Early stopping counter: 3 out of 30 | T_time: 00:01:31, T_speed: 0.346\n",
      "[Epoch 130] T_loss: 0.01823, V_loss: 0.14875, Early stopping counter: 4 out of 30 | T_time: 00:01:35, T_speed: 32.828\n",
      "[Epoch 135] T_loss: 0.01713, V_loss: 0.18209, Early stopping counter: 5 out of 30 | T_time: 00:01:38, T_speed: 0.202\n",
      "[Epoch 140] T_loss: 0.01795, V_loss: 0.06941, Early stopping counter: 6 out of 30 | T_time: 00:01:42, T_speed: 0.449\n",
      "[Epoch 145] T_loss: 0.01719, V_loss: 0.07060, Early stopping counter: 7 out of 30 | T_time: 00:01:45, T_speed: 0.152\n",
      "[Epoch 150] T_loss: 0.01621, V_loss: 0.09762, Early stopping counter: 8 out of 30 | T_time: 00:01:49, T_speed: 0.245\n",
      "[Epoch 155] T_loss: 0.01726, V_loss: 0.08980, Early stopping counter: 9 out of 30 | T_time: 00:01:53, T_speed: 0.584\n",
      "[Epoch 160] T_loss: 0.01480, V_loss: 0.08454, Early stopping counter: 10 out of 30 | T_time: 00:01:56, T_speed: 0.174\n",
      "[Epoch 165] T_loss: 0.01548, V_loss: 0.06875, Early stopping counter: 11 out of 30 | T_time: 00:02:00, T_speed: 0.293\n",
      "[Epoch 170] T_loss: 0.01794, V_loss: 0.08341, Early stopping counter: 12 out of 30 | T_time: 00:02:04, T_speed: 0.812\n",
      "[Epoch 175] T_loss: 0.01694, V_loss: 0.09495, Early stopping counter: 13 out of 30 | T_time: 00:02:07, T_speed: 0.206\n",
      "[Epoch 180] T_loss: 0.01501, V_loss: 0.15266, Early stopping counter: 14 out of 30 | T_time: 00:02:11, T_speed: 0.362\n",
      "[Epoch 185] T_loss: 0.01602, V_loss: 0.11629, Early stopping counter: 15 out of 30 | T_time: 00:02:15, T_speed: 1.146\n",
      "[Epoch 190] T_loss: 0.01546, V_loss: 0.08506, Early stopping counter: 16 out of 30 | T_time: 00:02:18, T_speed: 0.230\n",
      "[Epoch 195] T_loss: 0.01855, V_loss: 0.10337, Early stopping counter: 17 out of 30 | T_time: 00:02:22, T_speed: 0.399\n",
      "[Epoch 200] T_loss: 0.01529, V_loss: 0.09405, Early stopping counter: 18 out of 30 | T_time: 00:02:26, T_speed: 1.432\n",
      "[Epoch 205] T_loss: 0.01535, V_loss: 0.09448, Early stopping counter: 19 out of 30 | T_time: 00:02:29, T_speed: 0.262\n",
      "[Epoch 210] T_loss: 0.01524, V_loss: 0.06555, V_loss decreased (0.06619 --> 0.06555). Saving model... | T_time: 00:02:33, T_speed: 0.476\n",
      "[Epoch 215] T_loss: 0.01513, V_loss: 0.16625, Early stopping counter: 1 out of 30 | T_time: 00:02:37, T_speed: 1.849\n",
      "[Epoch 220] T_loss: 0.01714, V_loss: 0.08790, Early stopping counter: 2 out of 30 | T_time: 00:02:40, T_speed: 0.285\n",
      "[Epoch 225] T_loss: 0.01526, V_loss: 0.07940, Early stopping counter: 3 out of 30 | T_time: 00:02:44, T_speed: 0.524\n",
      "[Epoch 230] T_loss: 0.01664, V_loss: 0.14298, Early stopping counter: 4 out of 30 | T_time: 00:02:48, T_speed: 2.744\n",
      "[Epoch 235] T_loss: 0.01668, V_loss: 0.08078, Early stopping counter: 5 out of 30 | T_time: 00:02:51, T_speed: 0.322\n",
      "[Epoch 240] T_loss: 0.01656, V_loss: 0.06649, Early stopping counter: 6 out of 30 | T_time: 00:02:55, T_speed: 0.654\n",
      "[Epoch 245] T_loss: 0.01495, V_loss: 0.10628, Early stopping counter: 7 out of 30 | T_time: 00:02:59, T_speed: 36.518\n",
      "[Epoch 250] T_loss: 0.01582, V_loss: 0.10754, Early stopping counter: 8 out of 30 | T_time: 00:03:02, T_speed: 0.381\n",
      "[Epoch 255] T_loss: 0.01552, V_loss: 0.07664, Early stopping counter: 9 out of 30 | T_time: 00:03:06, T_speed: 0.836\n",
      "[Epoch 260] T_loss: 0.01474, V_loss: 0.06751, Early stopping counter: 10 out of 30 | T_time: 00:03:09, T_speed: 0.274\n",
      "[Epoch 265] T_loss: 0.01585, V_loss: 0.18601, Early stopping counter: 11 out of 30 | T_time: 00:03:13, T_speed: 0.442\n",
      "[Epoch 270] T_loss: 0.01633, V_loss: 0.09084, Early stopping counter: 12 out of 30 | T_time: 00:03:17, T_speed: 1.074\n",
      "[Epoch 275] T_loss: 0.01690, V_loss: 0.06410, V_loss decreased (0.06555 --> 0.06410). Saving model... | T_time: 00:03:20, T_speed: 0.307\n",
      "[Epoch 280] T_loss: 0.01507, V_loss: 0.07994, Early stopping counter: 1 out of 30 | T_time: 00:03:24, T_speed: 0.488\n",
      "[Epoch 285] T_loss: 0.01433, V_loss: 0.15733, Early stopping counter: 2 out of 30 | T_time: 00:03:28, T_speed: 1.270\n",
      "[Epoch 290] T_loss: 0.01561, V_loss: 0.09280, Early stopping counter: 3 out of 30 | T_time: 00:03:31, T_speed: 0.336\n",
      "[Epoch 295] T_loss: 0.01500, V_loss: 0.08449, Early stopping counter: 4 out of 30 | T_time: 00:03:35, T_speed: 0.574\n",
      "[Epoch 300] T_loss: 0.01492, V_loss: 0.06141, V_loss decreased (0.06410 --> 0.06141). Saving model... | T_time: 00:03:39, T_speed: 1.816\n",
      "[Epoch 305] T_loss: 0.01544, V_loss: 0.05997, V_loss decreased (0.06141 --> 0.05997). Saving model... | T_time: 00:03:42, T_speed: 0.370\n",
      "[Epoch 310] T_loss: 0.01599, V_loss: 0.10047, Early stopping counter: 1 out of 30 | T_time: 00:03:46, T_speed: 0.620\n",
      "[Epoch 315] T_loss: 0.01661, V_loss: 0.06211, Early stopping counter: 2 out of 30 | T_time: 00:03:50, T_speed: 2.235\n",
      "[Epoch 320] T_loss: 0.01658, V_loss: 0.06349, Early stopping counter: 3 out of 30 | T_time: 00:03:53, T_speed: 0.401\n",
      "[Epoch 325] T_loss: 0.01645, V_loss: 0.08180, Early stopping counter: 4 out of 30 | T_time: 00:03:57, T_speed: 0.732\n",
      "[Epoch 330] T_loss: 0.01483, V_loss: 0.06206, Early stopping counter: 5 out of 30 | T_time: 00:04:01, T_speed: 3.701\n",
      "[Epoch 335] T_loss: 0.01500, V_loss: 0.11800, Early stopping counter: 6 out of 30 | T_time: 00:04:04, T_speed: 0.454\n",
      "[Epoch 340] T_loss: 0.01573, V_loss: 0.15541, Early stopping counter: 7 out of 30 | T_time: 00:04:08, T_speed: 0.882\n"
     ]
    },
    {
     "name": "stdout",
     "output_type": "stream",
     "text": [
      "[Epoch 345] T_loss: 0.01505, V_loss: 0.07091, Early stopping counter: 8 out of 30 | T_time: 00:04:12, T_speed: 10.771\n",
      "[Epoch 350] T_loss: 0.01485, V_loss: 0.06704, Early stopping counter: 9 out of 30 | T_time: 00:04:15, T_speed: 0.521\n",
      "[Epoch 355] T_loss: 0.01506, V_loss: 0.08886, Early stopping counter: 10 out of 30 | T_time: 00:04:19, T_speed: 1.287\n",
      "[Epoch 360] T_loss: 0.01481, V_loss: 0.08850, Early stopping counter: 11 out of 30 | T_time: 00:04:22, T_speed: 0.387\n",
      "[Epoch 365] T_loss: 0.01558, V_loss: 0.06901, Early stopping counter: 12 out of 30 | T_time: 00:04:26, T_speed: 0.622\n",
      "[Epoch 370] T_loss: 0.01576, V_loss: 0.09716, Early stopping counter: 13 out of 30 | T_time: 00:04:30, T_speed: 1.668\n",
      "[Epoch 375] T_loss: 0.01507, V_loss: 0.06389, Early stopping counter: 14 out of 30 | T_time: 00:04:33, T_speed: 0.426\n",
      "[Epoch 380] T_loss: 0.01540, V_loss: 0.08420, Early stopping counter: 15 out of 30 | T_time: 00:04:37, T_speed: 0.722\n",
      "[Epoch 385] T_loss: 0.01471, V_loss: 0.09378, Early stopping counter: 16 out of 30 | T_time: 00:04:41, T_speed: 2.246\n",
      "[Epoch 390] T_loss: 0.01543, V_loss: 0.15648, Early stopping counter: 17 out of 30 | T_time: 00:04:44, T_speed: 0.473\n",
      "[Epoch 395] T_loss: 0.01605, V_loss: 0.07245, Early stopping counter: 18 out of 30 | T_time: 00:04:48, T_speed: 0.839\n",
      "[Epoch 400] T_loss: 0.01479, V_loss: 0.08056, Early stopping counter: 19 out of 30 | T_time: 00:04:52, T_speed: 3.531\n",
      "[Epoch 405] T_loss: 0.01434, V_loss: 0.13979, Early stopping counter: 20 out of 30 | T_time: 00:04:55, T_speed: 0.533\n",
      "[Epoch 410] T_loss: 0.01421, V_loss: 0.06053, Early stopping counter: 21 out of 30 | T_time: 00:04:59, T_speed: 0.958\n",
      "[Epoch 415] T_loss: 0.01495, V_loss: 0.06276, Early stopping counter: 22 out of 30 | T_time: 00:05:03, T_speed: 4.736\n",
      "[Epoch 420] T_loss: 0.01697, V_loss: 0.06737, Early stopping counter: 23 out of 30 | T_time: 00:05:06, T_speed: 0.554\n",
      "[Epoch 425] T_loss: 0.01508, V_loss: 0.07421, Early stopping counter: 24 out of 30 | T_time: 00:05:10, T_speed: 1.075\n",
      "[Epoch 430] T_loss: 0.01422, V_loss: 0.05969, V_loss decreased (0.05997 --> 0.05969). Saving model... | T_time: 00:05:14, T_speed: 9.082\n",
      "[Epoch 435] T_loss: 0.01628, V_loss: 0.07438, Early stopping counter: 1 out of 30 | T_time: 00:05:17, T_speed: 0.600\n",
      "[Epoch 440] T_loss: 0.01551, V_loss: 0.06211, Early stopping counter: 2 out of 30 | T_time: 00:05:21, T_speed: 1.146\n",
      "[Epoch 445] T_loss: 0.01662, V_loss: 0.06248, Early stopping counter: 3 out of 30 | T_time: 00:05:25, T_speed: 11.943\n",
      "[Epoch 450] T_loss: 0.01448, V_loss: 0.10731, Early stopping counter: 4 out of 30 | T_time: 00:05:28, T_speed: 0.656\n",
      "[Epoch 455] T_loss: 0.01463, V_loss: 0.05673, V_loss decreased (0.05969 --> 0.05673). Saving model... | T_time: 00:05:32, T_speed: 1.378\n",
      "[Epoch 460] T_loss: 0.01531, V_loss: 0.07701, Early stopping counter: 1 out of 30 | T_time: 00:05:35, T_speed: 0.463\n",
      "[Epoch 465] T_loss: 0.01680, V_loss: 0.12731, Early stopping counter: 2 out of 30 | T_time: 00:05:39, T_speed: 0.729\n",
      "[Epoch 470] T_loss: 0.01462, V_loss: 0.10056, Early stopping counter: 3 out of 30 | T_time: 00:05:43, T_speed: 1.605\n",
      "[Epoch 475] T_loss: 0.01535, V_loss: 0.05477, V_loss decreased (0.05673 --> 0.05477). Saving model... | T_time: 00:05:46, T_speed: 0.506\n",
      "[Epoch 480] T_loss: 0.01432, V_loss: 0.08656, Early stopping counter: 1 out of 30 | T_time: 00:05:50, T_speed: 0.794\n",
      "[Epoch 485] T_loss: 0.01547, V_loss: 0.06245, Early stopping counter: 2 out of 30 | T_time: 00:05:54, T_speed: 1.816\n",
      "[Epoch 490] T_loss: 0.01502, V_loss: 0.07039, Early stopping counter: 3 out of 30 | T_time: 00:05:57, T_speed: 0.541\n",
      "[Epoch 495] T_loss: 0.01519, V_loss: 0.11895, Early stopping counter: 4 out of 30 | T_time: 00:06:01, T_speed: 0.904\n",
      "[Epoch 500] T_loss: 0.01570, V_loss: 0.09251, Early stopping counter: 5 out of 30 | T_time: 00:06:05, T_speed: 2.882\n",
      "[Epoch 505] T_loss: 0.01460, V_loss: 0.05890, Early stopping counter: 6 out of 30 | T_time: 00:06:09, T_speed: 0.964\n",
      "[Epoch 510] T_loss: 0.01521, V_loss: 0.10021, Early stopping counter: 7 out of 30 | T_time: 00:06:13, T_speed: 0.538\n",
      "[Epoch 515] T_loss: 0.01522, V_loss: 0.07725, Early stopping counter: 8 out of 30 | T_time: 00:06:17, T_speed: 0.860\n",
      "[Epoch 520] T_loss: 0.01341, V_loss: 0.18553, Early stopping counter: 9 out of 30 | T_time: 00:06:21, T_speed: 2.023\n",
      "[Epoch 525] T_loss: 0.01391, V_loss: 0.08318, Early stopping counter: 10 out of 30 | T_time: 00:06:24, T_speed: 0.578\n",
      "[Epoch 530] T_loss: 0.01358, V_loss: 0.07702, Early stopping counter: 11 out of 30 | T_time: 00:06:28, T_speed: 0.932\n",
      "[Epoch 535] T_loss: 0.01542, V_loss: 0.06002, Early stopping counter: 12 out of 30 | T_time: 00:06:32, T_speed: 2.433\n",
      "[Epoch 540] T_loss: 0.01483, V_loss: 0.07870, Early stopping counter: 13 out of 30 | T_time: 00:06:35, T_speed: 0.619\n",
      "[Epoch 545] T_loss: 0.01370, V_loss: 0.07184, Early stopping counter: 14 out of 30 | T_time: 00:06:39, T_speed: 1.017\n",
      "[Epoch 550] T_loss: 0.01390, V_loss: 0.05866, Early stopping counter: 15 out of 30 | T_time: 00:06:43, T_speed: 2.656\n",
      "[Epoch 555] T_loss: 0.01637, V_loss: 0.07048, Early stopping counter: 16 out of 30 | T_time: 00:06:46, T_speed: 0.633\n",
      "[Epoch 560] T_loss: 0.01553, V_loss: 0.13925, Early stopping counter: 17 out of 30 | T_time: 00:06:50, T_speed: 1.017\n",
      "[Epoch 565] T_loss: 0.01584, V_loss: 0.10493, Early stopping counter: 18 out of 30 | T_time: 00:06:54, T_speed: 2.712\n",
      "[Epoch 570] T_loss: 0.01581, V_loss: 0.05927, Early stopping counter: 19 out of 30 | T_time: 00:06:57, T_speed: 0.668\n",
      "[Epoch 575] T_loss: 0.01387, V_loss: 0.06379, Early stopping counter: 20 out of 30 | T_time: 00:07:01, T_speed: 1.083\n",
      "[Epoch 580] T_loss: 0.01392, V_loss: 0.06843, Early stopping counter: 21 out of 30 | T_time: 00:07:05, T_speed: 3.146\n",
      "[Epoch 585] T_loss: 0.01522, V_loss: 0.07974, Early stopping counter: 22 out of 30 | T_time: 00:07:08, T_speed: 0.694\n",
      "[Epoch 590] T_loss: 0.01445, V_loss: 0.06182, Early stopping counter: 23 out of 30 | T_time: 00:07:12, T_speed: 1.170\n",
      "[Epoch 595] T_loss: 0.01528, V_loss: 0.07633, Early stopping counter: 24 out of 30 | T_time: 00:07:16, T_speed: 3.592\n",
      "[Epoch 600] T_loss: 0.01616, V_loss: 0.11978, Early stopping counter: 25 out of 30 | T_time: 00:07:19, T_speed: 0.725\n",
      "[Epoch 605] T_loss: 0.01431, V_loss: 0.08671, Early stopping counter: 26 out of 30 | T_time: 00:07:23, T_speed: 1.211\n",
      "[Epoch 610] T_loss: 0.01544, V_loss: 0.05748, Early stopping counter: 27 out of 30 | T_time: 00:07:27, T_speed: 3.593\n",
      "[Epoch 615] T_loss: 0.01822, V_loss: 0.06420, Early stopping counter: 28 out of 30 | T_time: 00:07:30, T_speed: 0.765\n",
      "[Epoch 620] T_loss: 0.01511, V_loss: 0.07639, Early stopping counter: 29 out of 30 | T_time: 00:07:34, T_speed: 1.331\n",
      "[Epoch 625] T_loss: 0.01507, V_loss: 0.06853, Early stopping counter: 30 out of 30 *** TRAIN EARLY STOPPED! *** | T_time: 00:07:38, T_speed: 5.179\n",
      "Final training time: 00:07:38\n"
     ]
    },
    {
     "data": {
      "text/html": [],
      "text/plain": [
       "<IPython.core.display.HTML object>"
      ]
     },
     "metadata": {},
     "output_type": "display_data"
    },
    {
     "data": {
      "text/html": [
       "<br>    <style><br>        .wandb-row {<br>            display: flex;<br>            flex-direction: row;<br>            flex-wrap: wrap;<br>            justify-content: flex-start;<br>            width: 100%;<br>        }<br>        .wandb-col {<br>            display: flex;<br>            flex-direction: column;<br>            flex-basis: 100%;<br>            flex: 1;<br>            padding: 10px;<br>        }<br>    </style><br><div class=\"wandb-row\"><div class=\"wandb-col\"><h3>Run history:</h3><br/><table class=\"wandb\"><tr><td>Epoch</td><td>▁▁▁▁▁▁▂▂▂▂▂▂▂▂▃▃▃▄▄▄▅▅▅▅▅▆▆▆▇▇▇▇▇▇▇▇▇▇██</td></tr><tr><td>Training loss</td><td>▇▆█▃▄▃▃▃▃▃▃▃▂▂▂▂▂▂▂▂▂▁▂▂▂▂▂▂▁▂▁▂▂▂▁▁▂▂▂▂</td></tr><tr><td>Training speed (epochs/sec.)</td><td>▁▁▁▁▁▁▁▃▂▂▂▅▂▆▂▂▂▅▆▂▂▃▂▃▂▃▄▅▃▆▆▄▃▃▇▄█▃▃▃</td></tr><tr><td>Validation loss</td><td>█▇▁▁▁▁▁▃▁▂▁▂▂▂▃▂▂▂▂▂▁▁▂▂▃▂▂▁▂▂▁▁▃▂▁▁▂▁▁▂</td></tr></table><br/></div><div class=\"wandb-col\"><h3>Run summary:</h3><br/><table class=\"wandb\"><tr><td>Epoch</td><td>625</td></tr><tr><td>Training loss</td><td>0.01507</td></tr><tr><td>Training speed (epochs/sec.)</td><td>5.1786</td></tr><tr><td>Validation loss</td><td>0.06853</td></tr></table><br/></div></div>"
      ],
      "text/plain": [
       "<IPython.core.display.HTML object>"
      ]
     },
     "metadata": {},
     "output_type": "display_data"
    },
    {
     "data": {
      "text/html": [
       " View run <strong style=\"color:#cdcd00\">2024-12-20_09-50-47</strong> at: <a href='https://wandb.ai/marching12-korea-university-of-technology-and-education/lstm_regression_btc_krw_new/runs/amx053xe' target=\"_blank\">https://wandb.ai/marching12-korea-university-of-technology-and-education/lstm_regression_btc_krw_new/runs/amx053xe</a><br> View project at: <a href='https://wandb.ai/marching12-korea-university-of-technology-and-education/lstm_regression_btc_krw_new' target=\"_blank\">https://wandb.ai/marching12-korea-university-of-technology-and-education/lstm_regression_btc_krw_new</a><br>Synced 5 W&B file(s), 0 media file(s), 0 artifact file(s) and 0 other file(s)"
      ],
      "text/plain": [
       "<IPython.core.display.HTML object>"
      ]
     },
     "metadata": {},
     "output_type": "display_data"
    },
    {
     "data": {
      "text/html": [
       "Find logs at: <code>./wandb/run-20241220_095047-amx053xe/logs</code>"
      ],
      "text/plain": [
       "<IPython.core.display.HTML object>"
      ]
     },
     "metadata": {},
     "output_type": "display_data"
    }
   ],
   "source": [
    "CURRENT_FILE_PATH = BASE_PATH\n",
    "CHECKPOINT_a_FILE_PATH = os.path.join(CURRENT_FILE_PATH, \"checkpoints_a\")\n",
    "if not os.path.isdir(CHECKPOINT_a_FILE_PATH):\n",
    "    os.makedirs(CHECKPOINT_a_FILE_PATH)\n",
    "def main(args):\n",
    "    # 시간 기록을 위한 문자열\n",
    "    run_time_str = datetime.now().astimezone().strftime('%Y-%m-%d_%H-%M-%S')\n",
    "    \n",
    "    # WandB 설정\n",
    "    config = {\n",
    "        'epochs': args.epochs,\n",
    "        'batch_size': args.batch_size,\n",
    "        'validation_intervals': args.validation_intervals,\n",
    "        'learning_rate': args.learning_rate,\n",
    "        'early_stop_patience': args.early_stop_patience,\n",
    "        'early_stop_delta': args.early_stop_delta,\n",
    "    }\n",
    "\n",
    "    project_name = \"lstm_regression_btc_krw_new\"\n",
    "    \n",
    "    wandb.init(\n",
    "        mode=\"online\" if args.wandb else \"disabled\",\n",
    "        project=project_name,\n",
    "        notes=\"btc_krw experiment with lstm\",\n",
    "        tags=[\"lstm\", \"regression\", \"btc_krw_new\"],\n",
    "        name=run_time_str,\n",
    "        config=config\n",
    "      )\n",
    "\n",
    "\n",
    "    # 데이터 로딩\n",
    "    train_loader, val_loader, test_loader = get_btc_krw_data(\n",
    "        sequence_size=21, validation_size=150, test_size=30, is_regression=True\n",
    "    )\n",
    "\n",
    "    # 모델 설정\n",
    "    model = get_model_new(\n",
    "        n_input=5, n_output=1, hidden_size=256,\n",
    "        n_lstm_layers=3, n_linear_layers=2, dropout_rate=0.2\n",
    "    )\n",
    "    \n",
    "    device=torch.device(\"cuda\" if torch.cuda.is_available() else \"cpu\")\n",
    "    optimizer = optim.Adam(model.parameters(), lr=0.0005, weight_decay=0.0001)\n",
    "    model.to(device)\n",
    "    # 트레이너 생성 및 훈련\n",
    "    regression_trainer = RegressionTrainer(\n",
    "        project_name, model, optimizer,\n",
    "        train_loader, val_loader, None, run_time_str, wandb, device,\n",
    "        CHECKPOINT_a_FILE_PATH\n",
    "    )\n",
    "    regression_trainer.train_loop()\n",
    "    \n",
    "    wandb.finish()\n",
    "\n",
    "\n",
    "if __name__ == \"__main__\":\n",
    "    wandb.finish()\n",
    "    main(args)"
   ]
  },
  {
   "cell_type": "code",
   "execution_count": 32,
   "id": "c16ef360",
   "metadata": {},
   "outputs": [
    {
     "name": "stderr",
     "output_type": "stream",
     "text": [
      "/usr/local/lib/python3.10/dist-packages/pydantic/main.py:314: UserWarning: Pydantic serializer warnings:\n",
      "  Expected `list[str]` but got `tuple` - serialized value may not be as expected\n",
      "  return self.__pydantic_serializer__.to_python(\n",
      "/usr/local/lib/python3.10/dist-packages/pydantic/main.py:314: UserWarning: Pydantic serializer warnings:\n",
      "  Expected `list[str]` but got `tuple` - serialized value may not be as expected\n",
      "  return self.__pydantic_serializer__.to_python(\n"
     ]
    },
    {
     "data": {
      "text/html": [
       "Tracking run with wandb version 0.19.1"
      ],
      "text/plain": [
       "<IPython.core.display.HTML object>"
      ]
     },
     "metadata": {},
     "output_type": "display_data"
    },
    {
     "data": {
      "text/html": [
       "Run data is saved locally in <code>/home/work/wandb/run-20241220_095947-2838604g</code>"
      ],
      "text/plain": [
       "<IPython.core.display.HTML object>"
      ]
     },
     "metadata": {},
     "output_type": "display_data"
    },
    {
     "data": {
      "text/html": [
       "Syncing run <strong><a href='https://wandb.ai/marching12-korea-university-of-technology-and-education/lstm_regression_btc_krw_new/runs/2838604g' target=\"_blank\">2024-12-20_09-59-47</a></strong> to <a href='https://wandb.ai/marching12-korea-university-of-technology-and-education/lstm_regression_btc_krw_new' target=\"_blank\">Weights & Biases</a> (<a href='https://wandb.me/developer-guide' target=\"_blank\">docs</a>)<br>"
      ],
      "text/plain": [
       "<IPython.core.display.HTML object>"
      ]
     },
     "metadata": {},
     "output_type": "display_data"
    },
    {
     "data": {
      "text/html": [
       " View project at <a href='https://wandb.ai/marching12-korea-university-of-technology-and-education/lstm_regression_btc_krw_new' target=\"_blank\">https://wandb.ai/marching12-korea-university-of-technology-and-education/lstm_regression_btc_krw_new</a>"
      ],
      "text/plain": [
       "<IPython.core.display.HTML object>"
      ]
     },
     "metadata": {},
     "output_type": "display_data"
    },
    {
     "data": {
      "text/html": [
       " View run at <a href='https://wandb.ai/marching12-korea-university-of-technology-and-education/lstm_regression_btc_krw_new/runs/2838604g' target=\"_blank\">https://wandb.ai/marching12-korea-university-of-technology-and-education/lstm_regression_btc_krw_new/runs/2838604g</a>"
      ],
      "text/plain": [
       "<IPython.core.display.HTML object>"
      ]
     },
     "metadata": {},
     "output_type": "display_data"
    },
    {
     "name": "stdout",
     "output_type": "stream",
     "text": [
      "MODEL FILE: /home/work/checkpoints_a/lstm_regression_btc_krw_new_checkpoint_latest.pt\n",
      "[TEST DATA]\n",
      " 0: 1,009.85 <--> 1,284.38 (Loss:        274.54)\n",
      " 1: 1,009.32 <--> 1,319.45 (Loss:        310.13)\n",
      " 2: 925.71 <--> 964.63 (Loss:         38.92)\n",
      " 3: 1,026.68 <--> 1,373.29 (Loss:        346.61)\n",
      " 4: 1,003.85 <--> 1,286.65 (Loss:        282.80)\n",
      " 5: 1,004.91 <--> 1,259.24 (Loss:        254.34)\n",
      " 6: 909.94 <--> 948.70 (Loss:         38.76)\n",
      " 7: 1,008.23 <--> 1,254.02 (Loss:        245.79)\n",
      " 8: 1,022.63 <--> 1,390.43 (Loss:        367.80)\n",
      " 9: 909.99 <--> 956.43 (Loss:         46.44)\n",
      "10: 1,007.87 <--> 1,264.13 (Loss:        256.26)\n",
      "11: 914.55 <--> 959.09 (Loss:         44.54)\n",
      "12: 971.42 <--> 1,243.20 (Loss:        271.78)\n",
      "13: 937.50 <--> 1,047.88 (Loss:        110.37)\n",
      "14: 1,018.25 <--> 1,360.09 (Loss:        341.85)\n",
      "15: 960.74 <--> 1,125.35 (Loss:        164.61)\n",
      "16: 901.96 <--> 931.83 (Loss:         29.88)\n",
      "17: 1,026.34 <--> 1,378.05 (Loss:        351.71)\n",
      "18: 995.18 <--> 1,272.01 (Loss:        276.83)\n",
      "19: 1,014.81 <--> 1,380.87 (Loss:        366.06)\n",
      "20: 995.61 <--> 1,238.69 (Loss:        243.08)\n",
      "21: 890.29 <--> 957.10 (Loss:         66.81)\n",
      "22: 1,017.28 <--> 1,331.62 (Loss:        314.33)\n",
      "23: 999.28 <--> 1,271.21 (Loss:        271.93)\n",
      "24: 1,024.88 <--> 1,302.60 (Loss:        277.73)\n",
      "25: 902.25 <--> 1,059.85 (Loss:        157.60)\n",
      "26: 957.03 <--> 1,073.52 (Loss:        116.49)\n",
      "27: 1,005.40 <--> 1,224.73 (Loss:        219.33)\n",
      "28: 944.88 <--> 1,070.26 (Loss:        125.38)\n",
      "29: 1,006.15 <--> 1,334.58 (Loss:        328.43)\n"
     ]
    },
    {
     "data": {
      "image/png": "[encoded data removed]",
      "text/plain": [
       "<Figure size 600x900 with 3 Axes>"
      ]
     },
     "metadata": {},
     "output_type": "display_data"
    }
   ],
   "source": [
    "def main(args):\n",
    "    run_time_str = datetime.now().astimezone().strftime('%Y-%m-%d_%H-%M-%S')\n",
    "    config = {\n",
    "        'epochs': args.epochs,\n",
    "        'batch_size': args.batch_size,\n",
    "        'validation_intervals': args.validation_intervals,\n",
    "        'learning_rate': args.learning_rate,\n",
    "        'early_stop_patience': args.early_stop_patience,\n",
    "        'early_stop_delta': args.early_stop_delta,\n",
    "    }\n",
    "\n",
    "    project_name = \"lstm_regression_btc_krw_new\"\n",
    "    \n",
    "    wandb.init(\n",
    "        mode=\"online\" if args.wandb else \"disabled\",\n",
    "        project=project_name,\n",
    "        notes=\"btc_krw experiment with lstm\",\n",
    "        tags=[\"lstm\", \"regression\", \"btc_krw_new\"],\n",
    "        name=run_time_str,\n",
    "        config=config\n",
    "      )\n",
    "\n",
    "    test_model = model = get_model_new(\n",
    "        n_input=5, n_output=1, hidden_size=256,\n",
    "        n_lstm_layers=3, n_linear_layers=2, dropout_rate=0.2\n",
    "    )\n",
    "\n",
    "    project_name = \"lstm_regression_btc_krw_new\"\n",
    "    latest_file_path = os.path.join(\n",
    "    CHECKPOINT_a_FILE_PATH, f\"{project_name}_checkpoint_latest.pt\"\n",
    "    )\n",
    "    print(\"MODEL FILE: {0}\".format(latest_file_path))\n",
    "    test_model.load_state_dict(torch.load(latest_file_path, map_location=torch.device('cpu')))\n",
    "\n",
    "    test(test_model)\n",
    "    predict_all(test_model)\n",
    "\n",
    "if __name__ == \"__main__\":\n",
    "    main(args)"
   ]
  },
  {
   "cell_type": "code",
   "execution_count": 37,
   "id": "1d9d304c",
   "metadata": {},
   "outputs": [
    {
     "data": {
      "text/html": [],
      "text/plain": [
       "<IPython.core.display.HTML object>"
      ]
     },
     "metadata": {},
     "output_type": "display_data"
    },
    {
     "data": {
      "text/html": [
       " View run <strong style=\"color:#cdcd00\">2024-12-20_10-05-52</strong> at: <a href='https://wandb.ai/marching12-korea-university-of-technology-and-education/lstm_tuning_btc_krw_Q2/runs/vt1cbw9n' target=\"_blank\">https://wandb.ai/marching12-korea-university-of-technology-and-education/lstm_tuning_btc_krw_Q2/runs/vt1cbw9n</a><br> View project at: <a href='https://wandb.ai/marching12-korea-university-of-technology-and-education/lstm_tuning_btc_krw_Q2' target=\"_blank\">https://wandb.ai/marching12-korea-university-of-technology-and-education/lstm_tuning_btc_krw_Q2</a><br>Synced 5 W&B file(s), 0 media file(s), 0 artifact file(s) and 0 other file(s)"
      ],
      "text/plain": [
       "<IPython.core.display.HTML object>"
      ]
     },
     "metadata": {},
     "output_type": "display_data"
    },
    {
     "data": {
      "text/html": [
       "Find logs at: <code>./wandb/run-20241220_100552-vt1cbw9n/logs</code>"
      ],
      "text/plain": [
       "<IPython.core.display.HTML object>"
      ]
     },
     "metadata": {},
     "output_type": "display_data"
    },
    {
     "name": "stderr",
     "output_type": "stream",
     "text": [
      "/usr/local/lib/python3.10/dist-packages/pydantic/main.py:314: UserWarning: Pydantic serializer warnings:\n",
      "  Expected `list[str]` but got `tuple` - serialized value may not be as expected\n",
      "  return self.__pydantic_serializer__.to_python(\n",
      "/usr/local/lib/python3.10/dist-packages/pydantic/main.py:314: UserWarning: Pydantic serializer warnings:\n",
      "  Expected `list[str]` but got `tuple` - serialized value may not be as expected\n",
      "  return self.__pydantic_serializer__.to_python(\n"
     ]
    },
    {
     "data": {
      "text/html": [
       "Tracking run with wandb version 0.19.1"
      ],
      "text/plain": [
       "<IPython.core.display.HTML object>"
      ]
     },
     "metadata": {},
     "output_type": "display_data"
    },
    {
     "data": {
      "text/html": [
       "Run data is saved locally in <code>/home/work/wandb/run-20241220_100557-9p6w5ukn</code>"
      ],
      "text/plain": [
       "<IPython.core.display.HTML object>"
      ]
     },
     "metadata": {},
     "output_type": "display_data"
    },
    {
     "data": {
      "text/html": [
       "Syncing run <strong><a href='https://wandb.ai/marching12-korea-university-of-technology-and-education/lstm_tuning_btc_krw_Q2/runs/9p6w5ukn' target=\"_blank\">2024-12-20_10-05-57</a></strong> to <a href='https://wandb.ai/marching12-korea-university-of-technology-and-education/lstm_tuning_btc_krw_Q2' target=\"_blank\">Weights & Biases</a> (<a href='https://wandb.me/developer-guide' target=\"_blank\">docs</a>)<br>"
      ],
      "text/plain": [
       "<IPython.core.display.HTML object>"
      ]
     },
     "metadata": {},
     "output_type": "display_data"
    },
    {
     "data": {
      "text/html": [
       " View project at <a href='https://wandb.ai/marching12-korea-university-of-technology-and-education/lstm_tuning_btc_krw_Q2' target=\"_blank\">https://wandb.ai/marching12-korea-university-of-technology-and-education/lstm_tuning_btc_krw_Q2</a>"
      ],
      "text/plain": [
       "<IPython.core.display.HTML object>"
      ]
     },
     "metadata": {},
     "output_type": "display_data"
    },
    {
     "data": {
      "text/html": [
       " View run at <a href='https://wandb.ai/marching12-korea-university-of-technology-and-education/lstm_tuning_btc_krw_Q2/runs/9p6w5ukn' target=\"_blank\">https://wandb.ai/marching12-korea-university-of-technology-and-education/lstm_tuning_btc_krw_Q2/runs/9p6w5ukn</a>"
      ],
      "text/plain": [
       "<IPython.core.display.HTML object>"
      ]
     },
     "metadata": {},
     "output_type": "display_data"
    },
    {
     "name": "stdout",
     "output_type": "stream",
     "text": [
      "Training on device cuda:0.\n",
      "[Epoch   1] T_loss: 0.69166, T_accuracy: 53.3031 | V_loss: 0.69344, V_accuracy: 47.3333 | Early stopping is stated! | T_time: 00:00:00, T_speed: 0.000\n",
      "[Epoch  30] T_loss: 0.68972, T_accuracy: 53.0479 | V_loss: 0.69382, V_accuracy: 46.6667 | Early stopping counter: 1 out of 30 | T_time: 00:00:01, T_speed: 30.000\n",
      "[Epoch  60] T_loss: 0.69080, T_accuracy: 53.3598 | V_loss: 0.69379, V_accuracy: 45.3333 | Early stopping counter: 2 out of 30 | T_time: 00:00:03, T_speed: 20.000\n",
      "[Epoch  90] T_loss: 0.69052, T_accuracy: 53.4165 | V_loss: 0.69355, V_accuracy: 47.3333 | Early stopping counter: 3 out of 30 | T_time: 00:00:05, T_speed: 18.000\n",
      "[Epoch 120] T_loss: 0.69012, T_accuracy: 53.4165 | V_loss: 0.69387, V_accuracy: 47.3333 | Early stopping counter: 4 out of 30 | T_time: 00:00:07, T_speed: 17.143\n",
      "[Epoch 150] T_loss: 0.69108, T_accuracy: 53.2464 | V_loss: 0.69276, V_accuracy: 52.6667 | V_loss decreased (0.69344 --> 0.69276). Saving model... | T_time: 00:00:09, T_speed: 16.667\n",
      "[Epoch 180] T_loss: 0.68981, T_accuracy: 53.2180 | V_loss: 0.69285, V_accuracy: 50.0000 | Early stopping counter: 1 out of 30 | T_time: 00:00:10, T_speed: 18.000\n",
      "[Epoch 210] T_loss: 0.68962, T_accuracy: 53.6150 | V_loss: 0.69218, V_accuracy: 50.0000 | V_loss decreased (0.69276 --> 0.69218). Saving model... | T_time: 00:00:12, T_speed: 17.500\n",
      "[Epoch 240] T_loss: 0.68896, T_accuracy: 53.7851 | V_loss: 0.69232, V_accuracy: 53.3333 | Early stopping counter: 1 out of 30 | T_time: 00:00:14, T_speed: 17.143\n",
      "[Epoch 270] T_loss: 0.68701, T_accuracy: 54.0119 | V_loss: 0.68945, V_accuracy: 56.6667 | V_loss decreased (0.69218 --> 0.68945). Saving model... | T_time: 00:00:16, T_speed: 16.875\n",
      "[Epoch 300] T_loss: 0.68424, T_accuracy: 53.8985 | V_loss: 0.68617, V_accuracy: 55.3333 | V_loss decreased (0.68945 --> 0.68617). Saving model... | T_time: 00:00:17, T_speed: 17.647\n",
      "[Epoch 330] T_loss: 0.68088, T_accuracy: 54.5506 | V_loss: 0.68510, V_accuracy: 56.0000 | V_loss decreased (0.68617 --> 0.68510). Saving model... | T_time: 00:00:19, T_speed: 17.368\n",
      "[Epoch 360] T_loss: 0.67838, T_accuracy: 55.2878 | V_loss: 0.67377, V_accuracy: 59.3333 | V_loss decreased (0.68510 --> 0.67377). Saving model... | T_time: 00:00:21, T_speed: 17.143\n",
      "[Epoch 390] T_loss: 0.67656, T_accuracy: 54.9759 | V_loss: 0.69784, V_accuracy: 58.0000 | Early stopping counter: 1 out of 30 | T_time: 00:00:23, T_speed: 16.957\n",
      "[Epoch 420] T_loss: 0.67447, T_accuracy: 55.8832 | V_loss: 0.71723, V_accuracy: 54.6667 | Early stopping counter: 2 out of 30 | T_time: 00:00:25, T_speed: 16.800\n",
      "[Epoch 450] T_loss: 0.66998, T_accuracy: 55.7698 | V_loss: 0.72670, V_accuracy: 60.0000 | Early stopping counter: 3 out of 30 | T_time: 00:00:26, T_speed: 17.308\n",
      "[Epoch 480] T_loss: 0.66784, T_accuracy: 56.0533 | V_loss: 0.71450, V_accuracy: 59.3333 | Early stopping counter: 4 out of 30 | T_time: 00:00:28, T_speed: 17.143\n",
      "[Epoch 510] T_loss: 0.66648, T_accuracy: 56.0250 | V_loss: 0.79961, V_accuracy: 54.6667 | Early stopping counter: 5 out of 30 | T_time: 00:00:30, T_speed: 17.000\n",
      "[Epoch 540] T_loss: 0.66530, T_accuracy: 56.3368 | V_loss: 0.82280, V_accuracy: 57.3333 | Early stopping counter: 6 out of 30 | T_time: 00:00:32, T_speed: 16.875\n",
      "[Epoch 570] T_loss: 0.65955, T_accuracy: 57.1024 | V_loss: 0.80608, V_accuracy: 59.3333 | Early stopping counter: 7 out of 30 | T_time: 00:00:33, T_speed: 17.273\n",
      "[Epoch 600] T_loss: 0.65702, T_accuracy: 57.0173 | V_loss: 0.80820, V_accuracy: 53.3333 | Early stopping counter: 8 out of 30 | T_time: 00:00:36, T_speed: 16.667\n",
      "[Epoch 630] T_loss: 0.65393, T_accuracy: 56.6487 | V_loss: 1.01091, V_accuracy: 49.3333 | Early stopping counter: 9 out of 30 | T_time: 00:00:38, T_speed: 16.579\n",
      "[Epoch 660] T_loss: 0.64516, T_accuracy: 57.8112 | V_loss: 1.09284, V_accuracy: 49.3333 | Early stopping counter: 10 out of 30 | T_time: 00:00:40, T_speed: 16.500\n",
      "[Epoch 690] T_loss: 0.63890, T_accuracy: 57.9529 | V_loss: 1.08215, V_accuracy: 54.6667 | Early stopping counter: 11 out of 30 | T_time: 00:00:42, T_speed: 16.429\n",
      "[Epoch 720] T_loss: 0.63359, T_accuracy: 58.2365 | V_loss: 1.24369, V_accuracy: 52.6667 | Early stopping counter: 12 out of 30 | T_time: 00:00:44, T_speed: 16.364\n",
      "[Epoch 750] T_loss: 0.62698, T_accuracy: 58.8319 | V_loss: 1.34587, V_accuracy: 52.6667 | Early stopping counter: 13 out of 30 | T_time: 00:00:46, T_speed: 16.304\n",
      "[Epoch 780] T_loss: 0.63012, T_accuracy: 58.6618 | V_loss: 1.34777, V_accuracy: 52.6667 | Early stopping counter: 14 out of 30 | T_time: 00:00:48, T_speed: 16.250\n",
      "[Epoch 810] T_loss: 0.62199, T_accuracy: 59.0303 | V_loss: 1.54961, V_accuracy: 52.0000 | Early stopping counter: 15 out of 30 | T_time: 00:00:51, T_speed: 15.882\n",
      "[Epoch 840] T_loss: 0.61568, T_accuracy: 59.8242 | V_loss: 1.57819, V_accuracy: 52.0000 | Early stopping counter: 16 out of 30 | T_time: 00:00:53, T_speed: 15.849\n",
      "[Epoch 870] T_loss: 0.60996, T_accuracy: 60.6464 | V_loss: 1.67873, V_accuracy: 52.0000 | Early stopping counter: 17 out of 30 | T_time: 00:00:56, T_speed: 15.536\n",
      "[Epoch 900] T_loss: 0.60276, T_accuracy: 60.8166 | V_loss: 1.70899, V_accuracy: 52.0000 | Early stopping counter: 18 out of 30 | T_time: 00:00:58, T_speed: 15.517\n",
      "[Epoch 930] T_loss: 0.59484, T_accuracy: 61.4403 | V_loss: 1.84097, V_accuracy: 55.3333 | Early stopping counter: 19 out of 30 | T_time: 00:01:01, T_speed: 15.246\n",
      "[Epoch 960] T_loss: 0.59180, T_accuracy: 61.3553 | V_loss: 1.83990, V_accuracy: 52.0000 | Early stopping counter: 20 out of 30 | T_time: 00:01:03, T_speed: 15.238\n",
      "[Epoch 990] T_loss: 0.58594, T_accuracy: 62.0357 | V_loss: 1.86293, V_accuracy: 53.3333 | Early stopping counter: 21 out of 30 | T_time: 00:01:06, T_speed: 15.000\n",
      "[Epoch 1020] T_loss: 0.58398, T_accuracy: 62.2625 | V_loss: 2.05559, V_accuracy: 54.6667 | Early stopping counter: 22 out of 30 | T_time: 00:01:08, T_speed: 15.000\n",
      "[Epoch 1050] T_loss: 0.60759, T_accuracy: 61.1001 | V_loss: 1.88654, V_accuracy: 55.3333 | Early stopping counter: 23 out of 30 | T_time: 00:01:11, T_speed: 14.789\n",
      "[Epoch 1080] T_loss: 0.57422, T_accuracy: 62.6878 | V_loss: 2.03765, V_accuracy: 52.0000 | Early stopping counter: 24 out of 30 | T_time: 00:01:13, T_speed: 14.795\n",
      "[Epoch 1110] T_loss: 0.56829, T_accuracy: 62.9430 | V_loss: 2.16042, V_accuracy: 52.0000 | Early stopping counter: 25 out of 30 | T_time: 00:01:16, T_speed: 14.605\n",
      "[Epoch 1140] T_loss: 0.57823, T_accuracy: 62.4894 | V_loss: 2.18081, V_accuracy: 50.6667 | Early stopping counter: 26 out of 30 | T_time: 00:01:18, T_speed: 14.615\n",
      "[Epoch 1170] T_loss: 0.56633, T_accuracy: 63.2832 | V_loss: 2.31888, V_accuracy: 52.6667 | Early stopping counter: 27 out of 30 | T_time: 00:01:21, T_speed: 14.444\n",
      "[Epoch 1200] T_loss: 0.57869, T_accuracy: 62.7729 | V_loss: 2.35117, V_accuracy: 53.3333 | Early stopping counter: 28 out of 30 | T_time: 00:01:23, T_speed: 14.458\n",
      "[Epoch 1230] T_loss: 0.56293, T_accuracy: 63.4250 | V_loss: 2.40294, V_accuracy: 50.6667 | Early stopping counter: 29 out of 30 | T_time: 00:01:26, T_speed: 14.302\n",
      "[Epoch 1260] T_loss: 0.55796, T_accuracy: 63.9070 | V_loss: 2.51465, V_accuracy: 52.6667 | Early stopping counter: 30 out of 30 *** TRAIN EARLY STOPPED! *** | T_time: 00:01:28, T_speed: 14.318\n",
      "Final training time: 00:01:28\n"
     ]
    },
    {
     "data": {
      "text/html": [],
      "text/plain": [
       "<IPython.core.display.HTML object>"
      ]
     },
     "metadata": {},
     "output_type": "display_data"
    },
    {
     "data": {
      "text/html": [
       "<br>    <style><br>        .wandb-row {<br>            display: flex;<br>            flex-direction: row;<br>            flex-wrap: wrap;<br>            justify-content: flex-start;<br>            width: 100%;<br>        }<br>        .wandb-col {<br>            display: flex;<br>            flex-direction: column;<br>            flex-basis: 100%;<br>            flex: 1;<br>            padding: 10px;<br>        }<br>    </style><br><div class=\"wandb-row\"><div class=\"wandb-col\"><h3>Run history:</h3><br/><table class=\"wandb\"><tr><td>Epoch</td><td>▁▁▁▁▂▂▂▂▂▂▃▃▃▃▃▄▄▄▄▄▄▅▅▅▅▅▆▆▆▆▆▆▇▇▇▇▇▇██</td></tr><tr><td>Training accuracy (%)</td><td>▁▁▁▁▁▁▁▁▁▂▂▂▂▃▃▃▃▃▄▄▃▄▄▄▅▅▅▆▆▆▆▇▇▆▇▇▇█▇█</td></tr><tr><td>Training loss</td><td>███████████▇▇▇▇▇▇▇▆▆▆▆▅▅▅▅▄▄▃▃▃▂▂▄▂▂▂▁▂▁</td></tr><tr><td>Training speed (epochs/sec.)</td><td>▁█▆▅▅▅▅▅▅▅▅▅▅▅▅▅▅▅▅▅▅▅▅▅▅▅▅▅▅▅▅▅▅▄▄▄▄▄▄▄</td></tr><tr><td>Validation accuracy (%)</td><td>▂▂▁▂▂▅▃▃▅▆▆▆█▅██▅▇█▅▃▃▅▅▅▅▄▄▄▆▄▅▅▆▄▄▄▅▅▅</td></tr><tr><td>Validation loss</td><td>▁▁▁▁▁▁▁▁▁▁▁▁▁▁▁▁▁▂▂▂▂▃▃▃▄▄▄▅▅▅▅▆▆▆▆▇▇▇▇█</td></tr></table><br/></div><div class=\"wandb-col\"><h3>Run summary:</h3><br/><table class=\"wandb\"><tr><td>Epoch</td><td>1260</td></tr><tr><td>Training accuracy (%)</td><td>63.907</td></tr><tr><td>Training loss</td><td>0.55796</td></tr><tr><td>Training speed (epochs/sec.)</td><td>14.31818</td></tr><tr><td>Validation accuracy (%)</td><td>52.66667</td></tr><tr><td>Validation loss</td><td>2.51465</td></tr></table><br/></div></div>"
      ],
      "text/plain": [
       "<IPython.core.display.HTML object>"
      ]
     },
     "metadata": {},
     "output_type": "display_data"
    },
    {
     "data": {
      "text/html": [
       " View run <strong style=\"color:#cdcd00\">2024-12-20_10-05-57</strong> at: <a href='https://wandb.ai/marching12-korea-university-of-technology-and-education/lstm_tuning_btc_krw_Q2/runs/9p6w5ukn' target=\"_blank\">https://wandb.ai/marching12-korea-university-of-technology-and-education/lstm_tuning_btc_krw_Q2/runs/9p6w5ukn</a><br> View project at: <a href='https://wandb.ai/marching12-korea-university-of-technology-and-education/lstm_tuning_btc_krw_Q2' target=\"_blank\">https://wandb.ai/marching12-korea-university-of-technology-and-education/lstm_tuning_btc_krw_Q2</a><br>Synced 5 W&B file(s), 0 media file(s), 0 artifact file(s) and 0 other file(s)"
      ],
      "text/plain": [
       "<IPython.core.display.HTML object>"
      ]
     },
     "metadata": {},
     "output_type": "display_data"
    },
    {
     "data": {
      "text/html": [
       "Find logs at: <code>./wandb/run-20241220_100557-9p6w5ukn/logs</code>"
      ],
      "text/plain": [
       "<IPython.core.display.HTML object>"
      ]
     },
     "metadata": {},
     "output_type": "display_data"
    }
   ],
   "source": [
    "CHECKPOINT_b_FILE_PATH = os.path.join(CURRENT_FILE_PATH, \"checkpoints_b\")\n",
    "if not os.path.isdir(CHECKPOINT_b_FILE_PATH):\n",
    "    os.makedirs(CHECKPOINT_b_FILE_PATH)\n",
    "    \n",
    "def get_model_b(n_input, n_output, lstm_layers=3, fc_layers=1, dropout_rate=0.0):\n",
    "    class MyModel(nn.Module):\n",
    "        def __init__(self):\n",
    "            super().__init__()\n",
    "\n",
    "            # LSTM 레이어 설정\n",
    "            self.lstm = nn.LSTM(\n",
    "                input_size=n_input, \n",
    "                hidden_size=256, \n",
    "                num_layers=lstm_layers, \n",
    "                batch_first=True, \n",
    "                dropout=dropout_rate if lstm_layers > 1 else 0.0\n",
    "            )\n",
    "\n",
    "            # FCN 레이어 설정\n",
    "            fc_modules = []\n",
    "            in_features = 256  # LSTM의 hidden_size\n",
    "\n",
    "            for _ in range(fc_layers - 1):\n",
    "                fc_modules.append(nn.Linear(in_features, in_features // 2))\n",
    "                fc_modules.append(nn.ReLU())\n",
    "                fc_modules.append(nn.Dropout(p=dropout_rate))\n",
    "                in_features = in_features // 2\n",
    "\n",
    "            fc_modules.append(nn.Linear(in_features, n_output))\n",
    "            self.fcn = nn.Sequential(*fc_modules)\n",
    "\n",
    "        def forward(self, x):\n",
    "            x, hidden = self.lstm(x)\n",
    "            x = x[:, -1, :]  # 마지막 타임스텝의 출력만 사용\n",
    "            x = self.fcn(x)\n",
    "            return x\n",
    "\n",
    "    return MyModel()\n",
    "\n",
    "\n",
    "def main(args):\n",
    "    run_time_str = datetime.now().astimezone().strftime('%Y-%m-%d_%H-%M-%S')\n",
    "\n",
    "    config = {\n",
    "        'epochs': args.epochs,\n",
    "        'batch_size': args.batch_size,\n",
    "        'validation_intervals': args.validation_intervals,\n",
    "        'learning_rate': args.learning_rate,\n",
    "        'early_stop_patience': args.early_stop_patience,\n",
    "        'early_stop_delta': args.early_stop_delta,\n",
    "        'weight_decay': args.weight_decay,\n",
    "        'dropout_rate': args.dropout_rate,\n",
    "        'lstm_layers': args.lstm_layers,\n",
    "        'fc_layers': args.fc_layers\n",
    "    }\n",
    "\n",
    "    project_name = \"lstm_tuning_btc_krw_Q2\"\n",
    "    wandb.init(\n",
    "        mode=\"online\" if args.wandb else \"disabled\",\n",
    "        project=project_name,\n",
    "        notes=\"Tuning LSTM and FCN layers with dropout\",\n",
    "        tags=[\"lstm\", \"classification\", \"btc_krw\", \"tuning\"],\n",
    "        name=run_time_str,\n",
    "        config=config\n",
    "    )\n",
    "\n",
    "    wandb.config.update({\n",
    "        'weight_decay': args.weight_decay,\n",
    "        'dropout_rate': args.dropout_rate,\n",
    "        'lstm_layers': args.lstm_layers,\n",
    "        'fc_layers': args.fc_layers\n",
    "    }, allow_val_change=True)\n",
    "\n",
    "    train_data_loader, validation_data_loader, _ = get_btc_krw_data(sequence_size=21, validation_size=150, test_size=30, is_regression=False)\n",
    "    device = torch.device(\"cuda:0\" if torch.cuda.is_available() else \"cpu\")\n",
    "    print(f\"Training on device {device}.\")\n",
    "\n",
    "    model = get_model_b(\n",
    "        n_input=5, \n",
    "        n_output=2, \n",
    "        lstm_layers=wandb.config.lstm_layers, \n",
    "        fc_layers=wandb.config.fc_layers, \n",
    "        dropout_rate=wandb.config.dropout_rate\n",
    "    )\n",
    "    model.to(device)\n",
    "\n",
    "    optimizer = optim.Adam(\n",
    "        model.parameters(), \n",
    "        lr=wandb.config.learning_rate, \n",
    "        weight_decay=wandb.config.weight_decay\n",
    "    )\n",
    "\n",
    "    classification_trainer = ClassificationTrainer(\n",
    "        project_name, model, optimizer, train_data_loader, validation_data_loader, None,\n",
    "        run_time_str, wandb, device, CHECKPOINT_b_FILE_PATH\n",
    "    )\n",
    "    classification_trainer.train_loop()\n",
    "\n",
    "    wandb.finish()\n",
    "\n",
    "if __name__ == \"__main__\":\n",
    "    class Args:\n",
    "        wandb = True\n",
    "        batch_size = 1024\n",
    "        epochs = 10000\n",
    "        learning_rate = 1e-4\n",
    "        weight_decay = 0.0\n",
    "        validation_intervals = 30\n",
    "        early_stop_patience = 30\n",
    "        early_stop_delta = 1e-6\n",
    "        dropout_rate = 0.0\n",
    "        lstm_layers = 2  # LSTM 레이어 증가\n",
    "        fc_layers = 1  # FCN 레이어 증가\n",
    "    wandb.finish()\n",
    "    args = Args()\n",
    "    main(args)"
   ]
  },
  {
   "cell_type": "code",
   "execution_count": 36,
   "id": "0c2940a8",
   "metadata": {},
   "outputs": [
    {
     "data": {
      "text/html": [],
      "text/plain": [
       "<IPython.core.display.HTML object>"
      ]
     },
     "metadata": {},
     "output_type": "display_data"
    },
    {
     "data": {
      "text/html": [
       " View run <strong style=\"color:#cdcd00\">2024-12-20_10-05-46</strong> at: <a href='https://wandb.ai/marching12-korea-university-of-technology-and-education/lstm_tuning_btc_krw_Q2/runs/dyu253p9' target=\"_blank\">https://wandb.ai/marching12-korea-university-of-technology-and-education/lstm_tuning_btc_krw_Q2/runs/dyu253p9</a><br> View project at: <a href='https://wandb.ai/marching12-korea-university-of-technology-and-education/lstm_tuning_btc_krw_Q2' target=\"_blank\">https://wandb.ai/marching12-korea-university-of-technology-and-education/lstm_tuning_btc_krw_Q2</a><br>Synced 5 W&B file(s), 0 media file(s), 0 artifact file(s) and 0 other file(s)"
      ],
      "text/plain": [
       "<IPython.core.display.HTML object>"
      ]
     },
     "metadata": {},
     "output_type": "display_data"
    },
    {
     "data": {
      "text/html": [
       "Find logs at: <code>./wandb/run-20241220_100546-dyu253p9/logs</code>"
      ],
      "text/plain": [
       "<IPython.core.display.HTML object>"
      ]
     },
     "metadata": {},
     "output_type": "display_data"
    },
    {
     "name": "stderr",
     "output_type": "stream",
     "text": [
      "/usr/local/lib/python3.10/dist-packages/pydantic/main.py:314: UserWarning: Pydantic serializer warnings:\n",
      "  Expected `list[str]` but got `tuple` - serialized value may not be as expected\n",
      "  return self.__pydantic_serializer__.to_python(\n",
      "/usr/local/lib/python3.10/dist-packages/pydantic/main.py:314: UserWarning: Pydantic serializer warnings:\n",
      "  Expected `list[str]` but got `tuple` - serialized value may not be as expected\n",
      "  return self.__pydantic_serializer__.to_python(\n"
     ]
    },
    {
     "data": {
      "text/html": [
       "Tracking run with wandb version 0.19.1"
      ],
      "text/plain": [
       "<IPython.core.display.HTML object>"
      ]
     },
     "metadata": {},
     "output_type": "display_data"
    },
    {
     "data": {
      "text/html": [
       "Run data is saved locally in <code>/home/work/wandb/run-20241220_100552-vt1cbw9n</code>"
      ],
      "text/plain": [
       "<IPython.core.display.HTML object>"
      ]
     },
     "metadata": {},
     "output_type": "display_data"
    },
    {
     "data": {
      "text/html": [
       "Syncing run <strong><a href='https://wandb.ai/marching12-korea-university-of-technology-and-education/lstm_tuning_btc_krw_Q2/runs/vt1cbw9n' target=\"_blank\">2024-12-20_10-05-52</a></strong> to <a href='https://wandb.ai/marching12-korea-university-of-technology-and-education/lstm_tuning_btc_krw_Q2' target=\"_blank\">Weights & Biases</a> (<a href='https://wandb.me/developer-guide' target=\"_blank\">docs</a>)<br>"
      ],
      "text/plain": [
       "<IPython.core.display.HTML object>"
      ]
     },
     "metadata": {},
     "output_type": "display_data"
    },
    {
     "data": {
      "text/html": [
       " View project at <a href='https://wandb.ai/marching12-korea-university-of-technology-and-education/lstm_tuning_btc_krw_Q2' target=\"_blank\">https://wandb.ai/marching12-korea-university-of-technology-and-education/lstm_tuning_btc_krw_Q2</a>"
      ],
      "text/plain": [
       "<IPython.core.display.HTML object>"
      ]
     },
     "metadata": {},
     "output_type": "display_data"
    },
    {
     "data": {
      "text/html": [
       " View run at <a href='https://wandb.ai/marching12-korea-university-of-technology-and-education/lstm_tuning_btc_krw_Q2/runs/vt1cbw9n' target=\"_blank\">https://wandb.ai/marching12-korea-university-of-technology-and-education/lstm_tuning_btc_krw_Q2/runs/vt1cbw9n</a>"
      ],
      "text/plain": [
       "<IPython.core.display.HTML object>"
      ]
     },
     "metadata": {},
     "output_type": "display_data"
    },
    {
     "name": "stdout",
     "output_type": "stream",
     "text": [
      "MODEL FILE: /home/work/checkpoints_b/lstm_tuning_btc_krw_Q2_checkpoint_latest.pt\n",
      "[TEST DATA]\n",
      "TEST RESULTS: 60.000%\n",
      " 0:   1.00 <-->   1.00\n",
      " 1:   0.00 <-->   1.00\n",
      " 2:   1.00 <-->   0.00\n",
      " 3:   1.00 <-->   1.00\n",
      " 4:   1.00 <-->   1.00\n",
      " 5:   0.00 <-->   0.00\n",
      " 6:   0.00 <-->   0.00\n",
      " 7:   0.00 <-->   1.00\n",
      " 8:   1.00 <-->   0.00\n",
      " 9:   1.00 <-->   1.00\n"
     ]
    }
   ],
   "source": [
    "def test_b(test_model):\n",
    "  _, _, test_data_loader = get_btc_krw_data(is_regression=False)\n",
    "\n",
    "  test_model.eval()\n",
    "\n",
    "  num_corrects_test = 0\n",
    "  num_tested_samples = 0\n",
    "\n",
    "  print(\"[TEST DATA]\")\n",
    "  with torch.no_grad():\n",
    "    for test_batch in test_data_loader:\n",
    "      input_test, target_test = test_batch\n",
    "\n",
    "      output_test = test_model(input_test)\n",
    "\n",
    "      predicted_test = torch.argmax(output_test, dim=1)\n",
    "      num_corrects_test += torch.sum(torch.eq(predicted_test, target_test))\n",
    "\n",
    "      num_tested_samples += len(input_test)\n",
    "\n",
    "    test_accuracy = 100.0 * num_corrects_test / num_tested_samples\n",
    "\n",
    "    print(f\"TEST RESULTS: {test_accuracy:6.3f}%\")\n",
    "\n",
    "    for idx, (output, target) in enumerate(zip(output_test, target_test)):\n",
    "      print(\"{0:2}: {1:6,.2f} <--> {2:6,.2f}\".format(\n",
    "        idx, torch.argmax(output).item(), target.item()\n",
    "      ))\n",
    "\n",
    "def main(args):\n",
    "  run_time_str = datetime.now().astimezone().strftime('%Y-%m-%d_%H-%M-%S')\n",
    "\n",
    "  config = {\n",
    "      'epochs': args.epochs,\n",
    "      'batch_size': args.batch_size,\n",
    "      'validation_intervals': args.validation_intervals,\n",
    "      'learning_rate': args.learning_rate,\n",
    "      'early_stop_patience': args.early_stop_patience,\n",
    "      'early_stop_delta': args.early_stop_delta,\n",
    "      'weight_decay': args.weight_decay,\n",
    "      'dropout_rate': args.dropout_rate,\n",
    "      'lstm_layers': args.lstm_layers,\n",
    "      'fc_layers': args.fc_layers\n",
    "  }\n",
    "\n",
    "  project_name = \"lstm_tuning_btc_krw_Q2\"\n",
    "  wandb.init(\n",
    "      mode=\"online\" if args.wandb else \"disabled\",\n",
    "      project=project_name,\n",
    "      notes=\"Tuning LSTM and FCN layers with dropout\",\n",
    "      tags=[\"lstm\", \"classification\", \"btc_krw\", \"tuning\"],\n",
    "      name=run_time_str,\n",
    "      config=config\n",
    "  )\n",
    "\n",
    "  wandb.config.update({\n",
    "      'weight_decay': args.weight_decay,\n",
    "      'dropout_rate': args.dropout_rate,\n",
    "      'lstm_layers': args.lstm_layers,\n",
    "      'fc_layers': args.fc_layers\n",
    "  }, allow_val_change=True)\n",
    "\n",
    "  test_model = get_model_b(\n",
    "      n_input=5, \n",
    "      n_output=2, \n",
    "      lstm_layers=wandb.config.lstm_layers, \n",
    "      fc_layers=wandb.config.fc_layers, \n",
    "      dropout_rate=wandb.config.dropout_rate\n",
    "  )\n",
    "  latest_file_path = os.path.join(\n",
    "    CHECKPOINT_b_FILE_PATH, f\"{project_name}_checkpoint_latest.pt\"\n",
    "  )\n",
    "  print(\"MODEL FILE: {0}\".format(latest_file_path))\n",
    "  test_model.load_state_dict(torch.load(latest_file_path, map_location=torch.device('cpu')))\n",
    "\n",
    "  test_b(test_model)\n",
    "\n",
    "\n",
    "if __name__ == \"__main__\":\n",
    "    class Args:\n",
    "        wandb = True\n",
    "        batch_size = 1024\n",
    "        epochs = 10000\n",
    "        learning_rate = 1e-4\n",
    "        weight_decay = 0.0\n",
    "        validation_intervals = 30\n",
    "        early_stop_patience = 30\n",
    "        early_stop_delta = 1e-6\n",
    "        dropout_rate = 0.0\n",
    "        lstm_layers = 2  # LSTM 레이어 증가\n",
    "        fc_layers = 1  # FCN 레이어 증가\n",
    "    wandb.finish()\n",
    "    main(args)"
   ]
  },
  {
   "cell_type": "code",
   "execution_count": null,
   "id": "7a907320",
   "metadata": {},
   "outputs": [],
   "source": []
  },
  {
   "metadata": {},
   "cell_type": "markdown",
   "source": [
    "* https://wandb.ai/marching12-korea-university-of-technology-and-education/lstm_regression_btc_krw/reports/-1-1--VmlldzoxMDY3NDY1OA\n",
    "\n",
    "* https://wandb.ai/marching12-korea-university-of-technology-and-education/lstm_classification_btc_krw/reports/-1_2--VmlldzoxMDY3NDczNw\n",
    "\n",
    "* https://wandb.ai/marching12-korea-university-of-technology-and-education/lstm_regression_btc_krw_new/reports/-2-1--VmlldzoxMDY3NDc2MQ\n",
    "\n",
    "* https://wandb.ai/marching12-korea-university-of-technology-and-education/lstm_tuning_btc_krw_Q2/reports/-2-2--VmlldzoxMDY3NDc2OA"
   ],
   "id": "d4ebf8f966e36e56"
  }
 ],
 "metadata": {
  "kernelspec": {
   "display_name": "PyTorch 2.3 (NGC 24.03/Python 3.10) on Backend.AI",
   "language": "python",
   "name": "python3"
  },
  "language_info": {
   "codemirror_mode": {
    "name": "ipython",
    "version": 3
   },
   "file_extension": ".py",
   "mimetype": "text/x-python",
   "name": "python",
   "nbconvert_exporter": "python",
   "pygments_lexer": "ipython3",
   "version": "3.10.12"
  }
 },
 "nbformat": 4,
 "nbformat_minor": 5
}
