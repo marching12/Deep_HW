{
 "cells": [
  {
   "metadata": {},
   "cell_type": "markdown",
   "source": "",
   "id": "e61b4d616c4cde13"
  },
  {
   "cell_type": "code",
   "id": "initial_id",
   "metadata": {
    "collapsed": true,
    "ExecuteTime": {
     "end_time": "2024-09-20T08:05:42.780854Z",
     "start_time": "2024-09-20T08:05:42.616663Z"
    }
   },
   "source": [
    "import os\n",
    "import imageio.v2 as imageio\n",
    "import torch\n",
    "from PIL import Image\n",
    "\n",
    "img_arr = imageio.imread(os.path.join(os.path.pardir, os.path.pardir, \"link_dl\", \"_00_data\", \"a_image-dog\", \"bobby.jpg\")) #파일열기\n",
    "\n",
    "print(type(img_arr))  # 이미지 배열의 데이터 타입 출력\n",
    "print(img_arr.shape)  # 이미지의 형태 출력\n",
    "print(img_arr.dtype)  # 이미지의 데이터 타입 출력\n",
    "\n",
    "img = torch.from_numpy(img_arr) # numpy 배열을 PyTorch 텐서로 변환\n",
    "out = img.permute(2, 0, 1)  # 이미지의 차원을 (높이, 너비, 채널)에서 (채널, 높이, 너비)로 변환\n",
    "print(out.shape)  \n",
    "\n",
    "print(\"#\" * 50, 1)\n",
    "\n",
    "data_dir = os.path.join(os.path.pardir, os.path.pardir, \"link_dl\", \"_00_data\", \"b_image-cats\")\n",
    "\n",
    "# 해당 디렉토리 내에 있는 .png 확장자의 파일명을 가져옴\n",
    "filenames = [\n",
    "  name for name in os.listdir(data_dir) if os.path.splitext(name)[-1] == '.png'\n",
    "]\n",
    "print(filenames)\n",
    "\n",
    "\n",
    "# 각 파일을 열어서 이미지 출력 및 정보 출력\n",
    "for i, filename in enumerate(filenames):\n",
    "  image = Image.open(os.path.join(data_dir, filename))\n",
    "  image.show()\n",
    "  img_arr = imageio.imread(os.path.join(data_dir, filename))\n",
    "  print(img_arr.shape)\n",
    "  print(img_arr.dtype)\n",
    "\n",
    "batch_size = 3  # 배치 사이즈 설정 \n",
    "batch = torch.zeros(batch_size, 3, 256, 256, dtype=torch.uint8) # (배치, 채널, 높이, 너비)의 빈 텐서 생성\n",
    "\n",
    "\n",
    "for i, filename in enumerate(filenames):\n",
    "  img_arr = imageio.imread(os.path.join(data_dir, filename))\n",
    "  img_t = torch.from_numpy(img_arr)\n",
    "  img_t = img_t.permute(2, 0, 1)\n",
    "  batch[i] = img_t  # 변환된 텐서를 배치에 추가\n",
    "\n",
    "print(batch.shape)  # 배치 텐서의 크기 출력\n",
    "\n",
    "print(\"#\" * 50, 2)\n",
    "\n",
    "batch = batch.float()\n",
    "batch /= 255.0  #이미지값을 0~1로 정규화\n",
    "print(batch.dtype)\n",
    "print(batch.shape)\n",
    "\n",
    "n_channels = batch.shape[1]\n",
    "\n",
    "for c in range(n_channels):\n",
    "  mean = torch.mean(batch[:, c])\n",
    "  std = torch.std(batch[:, c])\n",
    "  print(mean, std)\n",
    "  batch[:, c] = (batch[:, c] - mean) / std"
   ],
   "outputs": [
    {
     "name": "stdout",
     "output_type": "stream",
     "text": [
      "<class 'numpy.ndarray'>\n",
      "(720, 1280, 3)\n",
      "uint8\n",
      "torch.Size([3, 720, 1280])\n",
      "################################################## 1\n",
      "['cat1.png', 'cat2.png', 'cat3.png']\n",
      "(256, 256, 3)\n",
      "uint8\n",
      "(256, 256, 3)\n",
      "uint8\n",
      "(256, 256, 3)\n",
      "uint8\n",
      "torch.Size([3, 3, 256, 256])\n",
      "################################################## 2\n",
      "torch.float32\n",
      "torch.Size([3, 3, 256, 256])\n",
      "tensor(0.5799) tensor(0.2212)\n",
      "tensor(0.4493) tensor(0.2068)\n",
      "tensor(0.3554) tensor(0.1931)\n"
     ]
    }
   ],
   "execution_count": 14
  },
  {
   "metadata": {},
   "cell_type": "markdown",
   "source": [
    "# A 고찰내용\n",
    "#### 이미지 데이터 확인 및 출력\n",
    "1. 이미지 파일을 텐서로 관리할 수 있다.\n",
    "2. 텐서 차원의 순서를 변경할 수 있다.\n",
    "3. 정규화를 할 수 있다."
   ],
   "id": "3efe0a1640469178"
  },
  {
   "metadata": {
    "ExecuteTime": {
     "end_time": "2024-09-20T08:22:15.590514Z",
     "start_time": "2024-09-20T08:22:15.464304Z"
    }
   },
   "cell_type": "code",
   "source": [
    "import os\n",
    "\n",
    "import imageio.v2 as imageio\n",
    "\n",
    "dir_path = os.path.join(os.path.pardir, os.path.pardir, \"\" \"_00_data\", \"c_volumetric-dicom\", \"2-LUNG_3.0_B70f-04083\")\n",
    "vol_array = imageio.volread(dir_path, format='DICOM')\n",
    "print(type(vol_array))   # >>> <class 'imageio.core.util.Array'>:  Numpy NDArray\n",
    "print(vol_array.shape)   # >>> (99, 512, 512)\n",
    "print(vol_array.dtype)   # >>> int16\n",
    "print(vol_array[0])\n",
    "\n",
    "print(\"#\" * 50, 1)\n",
    "\n",
    "import matplotlib.pyplot as plt\n",
    "\n",
    "fig = plt.figure(figsize=(10, 10))\n",
    "for id in range(0, 99):\n",
    "  fig.add_subplot(10, 10, id + 1)\n",
    "  plt.imshow(vol_array[id])\n",
    "plt.show()\n",
    "\n",
    "import torch\n",
    "\n",
    "vol = torch.from_numpy(vol_array).float()\n",
    "vol = torch.unsqueeze(vol, 0)  # channel\n",
    "vol = torch.unsqueeze(vol, 0)  # data size\n",
    "\n",
    "print(vol.shape)  # >>> torch.Size([1, 1, 99, 512, 512])\n",
    "\n",
    "print(\"#\" * 50, 2)\n",
    "\n",
    "mean = torch.mean(vol, dim=(3, 4), keepdim=True)  # mean over all of dim=(3, 4)\n",
    "print(mean.shape)\n",
    "std = torch.std(vol, dim=(3, 4), keepdim=True)    # std over all of dim=(3, 4)\n",
    "print(std.shape)\n",
    "vol = (vol - mean) / std\n",
    "print(vol.shape)\n",
    "\n",
    "print(vol[0, 0, 0])"
   ],
   "id": "60a1df99f1ba0926",
   "outputs": [
    {
     "ename": "FileNotFoundError",
     "evalue": "No such file: 'C:\\Deep_HW\\_00_data\\c_volumetric-dicom\\2-LUNG_3.0_B70f-04083'",
     "output_type": "error",
     "traceback": [
      "\u001B[1;31m---------------------------------------------------------------------------\u001B[0m",
      "\u001B[1;31mFileNotFoundError\u001B[0m                         Traceback (most recent call last)",
      "Cell \u001B[1;32mIn[15], line 6\u001B[0m\n\u001B[0;32m      3\u001B[0m \u001B[38;5;28;01mimport\u001B[39;00m \u001B[38;5;21;01mimageio\u001B[39;00m\u001B[38;5;21;01m.\u001B[39;00m\u001B[38;5;21;01mv2\u001B[39;00m \u001B[38;5;28;01mas\u001B[39;00m \u001B[38;5;21;01mimageio\u001B[39;00m\n\u001B[0;32m      5\u001B[0m dir_path \u001B[38;5;241m=\u001B[39m os\u001B[38;5;241m.\u001B[39mpath\u001B[38;5;241m.\u001B[39mjoin(os\u001B[38;5;241m.\u001B[39mpath\u001B[38;5;241m.\u001B[39mpardir, os\u001B[38;5;241m.\u001B[39mpath\u001B[38;5;241m.\u001B[39mpardir, \u001B[38;5;124m\"\u001B[39m\u001B[38;5;124m_00_data\u001B[39m\u001B[38;5;124m\"\u001B[39m, \u001B[38;5;124m\"\u001B[39m\u001B[38;5;124mc_volumetric-dicom\u001B[39m\u001B[38;5;124m\"\u001B[39m, \u001B[38;5;124m\"\u001B[39m\u001B[38;5;124m2-LUNG_3.0_B70f-04083\u001B[39m\u001B[38;5;124m\"\u001B[39m)\n\u001B[1;32m----> 6\u001B[0m vol_array \u001B[38;5;241m=\u001B[39m \u001B[43mimageio\u001B[49m\u001B[38;5;241;43m.\u001B[39;49m\u001B[43mvolread\u001B[49m\u001B[43m(\u001B[49m\u001B[43mdir_path\u001B[49m\u001B[43m,\u001B[49m\u001B[43m \u001B[49m\u001B[38;5;28;43mformat\u001B[39;49m\u001B[38;5;241;43m=\u001B[39;49m\u001B[38;5;124;43m'\u001B[39;49m\u001B[38;5;124;43mDICOM\u001B[39;49m\u001B[38;5;124;43m'\u001B[39;49m\u001B[43m)\u001B[49m\n\u001B[0;32m      7\u001B[0m \u001B[38;5;28mprint\u001B[39m(\u001B[38;5;28mtype\u001B[39m(vol_array))   \u001B[38;5;66;03m# >>> <class 'imageio.core.util.Array'>:  Numpy NDArray\u001B[39;00m\n\u001B[0;32m      8\u001B[0m \u001B[38;5;28mprint\u001B[39m(vol_array\u001B[38;5;241m.\u001B[39mshape)   \u001B[38;5;66;03m# >>> (99, 512, 512)\u001B[39;00m\n",
      "File \u001B[1;32m~\\miniconda3\\envs\\link_dl\\lib\\site-packages\\imageio\\v2.py:522\u001B[0m, in \u001B[0;36mvolread\u001B[1;34m(uri, format, **kwargs)\u001B[0m\n\u001B[0;32m    520\u001B[0m imopen_args \u001B[38;5;241m=\u001B[39m decypher_format_arg(\u001B[38;5;28mformat\u001B[39m)\n\u001B[0;32m    521\u001B[0m imopen_args[\u001B[38;5;124m\"\u001B[39m\u001B[38;5;124mlegacy_mode\u001B[39m\u001B[38;5;124m\"\u001B[39m] \u001B[38;5;241m=\u001B[39m \u001B[38;5;28;01mTrue\u001B[39;00m\n\u001B[1;32m--> 522\u001B[0m \u001B[38;5;28;01mwith\u001B[39;00m imopen(uri, \u001B[38;5;124m\"\u001B[39m\u001B[38;5;124mrv\u001B[39m\u001B[38;5;124m\"\u001B[39m, \u001B[38;5;241m*\u001B[39m\u001B[38;5;241m*\u001B[39mimopen_args) \u001B[38;5;28;01mas\u001B[39;00m file:\n\u001B[0;32m    523\u001B[0m     \u001B[38;5;28;01mreturn\u001B[39;00m file\u001B[38;5;241m.\u001B[39mread(index\u001B[38;5;241m=\u001B[39m\u001B[38;5;241m0\u001B[39m, \u001B[38;5;241m*\u001B[39m\u001B[38;5;241m*\u001B[39mkwargs)\n",
      "File \u001B[1;32m~\\miniconda3\\envs\\link_dl\\lib\\site-packages\\imageio\\core\\imopen.py:113\u001B[0m, in \u001B[0;36mimopen\u001B[1;34m(uri, io_mode, plugin, extension, format_hint, legacy_mode, **kwargs)\u001B[0m\n\u001B[0;32m    111\u001B[0m     request\u001B[38;5;241m.\u001B[39mformat_hint \u001B[38;5;241m=\u001B[39m format_hint\n\u001B[0;32m    112\u001B[0m \u001B[38;5;28;01melse\u001B[39;00m:\n\u001B[1;32m--> 113\u001B[0m     request \u001B[38;5;241m=\u001B[39m \u001B[43mRequest\u001B[49m\u001B[43m(\u001B[49m\u001B[43muri\u001B[49m\u001B[43m,\u001B[49m\u001B[43m \u001B[49m\u001B[43mio_mode\u001B[49m\u001B[43m,\u001B[49m\u001B[43m \u001B[49m\u001B[43mformat_hint\u001B[49m\u001B[38;5;241;43m=\u001B[39;49m\u001B[43mformat_hint\u001B[49m\u001B[43m,\u001B[49m\u001B[43m \u001B[49m\u001B[43mextension\u001B[49m\u001B[38;5;241;43m=\u001B[39;49m\u001B[43mextension\u001B[49m\u001B[43m)\u001B[49m\n\u001B[0;32m    115\u001B[0m source \u001B[38;5;241m=\u001B[39m \u001B[38;5;124m\"\u001B[39m\u001B[38;5;124m<bytes>\u001B[39m\u001B[38;5;124m\"\u001B[39m \u001B[38;5;28;01mif\u001B[39;00m \u001B[38;5;28misinstance\u001B[39m(uri, \u001B[38;5;28mbytes\u001B[39m) \u001B[38;5;28;01melse\u001B[39;00m uri\n\u001B[0;32m    117\u001B[0m \u001B[38;5;66;03m# fast-path based on plugin\u001B[39;00m\n\u001B[0;32m    118\u001B[0m \u001B[38;5;66;03m# (except in legacy mode)\u001B[39;00m\n",
      "File \u001B[1;32m~\\miniconda3\\envs\\link_dl\\lib\\site-packages\\imageio\\core\\request.py:247\u001B[0m, in \u001B[0;36mRequest.__init__\u001B[1;34m(self, uri, mode, extension, format_hint, **kwargs)\u001B[0m\n\u001B[0;32m    244\u001B[0m     \u001B[38;5;28;01mraise\u001B[39;00m \u001B[38;5;167;01mValueError\u001B[39;00m(\u001B[38;5;124mf\u001B[39m\u001B[38;5;124m\"\u001B[39m\u001B[38;5;124mInvalid Request.Mode: \u001B[39m\u001B[38;5;132;01m{\u001B[39;00mmode\u001B[38;5;132;01m}\u001B[39;00m\u001B[38;5;124m\"\u001B[39m)\n\u001B[0;32m    246\u001B[0m \u001B[38;5;66;03m# Parse what was given\u001B[39;00m\n\u001B[1;32m--> 247\u001B[0m \u001B[38;5;28;43mself\u001B[39;49m\u001B[38;5;241;43m.\u001B[39;49m\u001B[43m_parse_uri\u001B[49m\u001B[43m(\u001B[49m\u001B[43muri\u001B[49m\u001B[43m)\u001B[49m\n\u001B[0;32m    249\u001B[0m \u001B[38;5;66;03m# Set extension\u001B[39;00m\n\u001B[0;32m    250\u001B[0m \u001B[38;5;28;01mif\u001B[39;00m extension \u001B[38;5;129;01mis\u001B[39;00m \u001B[38;5;129;01mnot\u001B[39;00m \u001B[38;5;28;01mNone\u001B[39;00m:\n",
      "File \u001B[1;32m~\\miniconda3\\envs\\link_dl\\lib\\site-packages\\imageio\\core\\request.py:407\u001B[0m, in \u001B[0;36mRequest._parse_uri\u001B[1;34m(self, uri)\u001B[0m\n\u001B[0;32m    404\u001B[0m \u001B[38;5;28;01mif\u001B[39;00m is_read_request:\n\u001B[0;32m    405\u001B[0m     \u001B[38;5;66;03m# Reading: check that the file exists (but is allowed a dir)\u001B[39;00m\n\u001B[0;32m    406\u001B[0m     \u001B[38;5;28;01mif\u001B[39;00m \u001B[38;5;129;01mnot\u001B[39;00m os\u001B[38;5;241m.\u001B[39mpath\u001B[38;5;241m.\u001B[39mexists(fn):\n\u001B[1;32m--> 407\u001B[0m         \u001B[38;5;28;01mraise\u001B[39;00m \u001B[38;5;167;01mFileNotFoundError\u001B[39;00m(\u001B[38;5;124m\"\u001B[39m\u001B[38;5;124mNo such file: \u001B[39m\u001B[38;5;124m'\u001B[39m\u001B[38;5;132;01m%s\u001B[39;00m\u001B[38;5;124m'\u001B[39m\u001B[38;5;124m\"\u001B[39m \u001B[38;5;241m%\u001B[39m fn)\n\u001B[0;32m    408\u001B[0m \u001B[38;5;28;01melse\u001B[39;00m:\n\u001B[0;32m    409\u001B[0m     \u001B[38;5;66;03m# Writing: check that the directory to write to does exist\u001B[39;00m\n\u001B[0;32m    410\u001B[0m     dn \u001B[38;5;241m=\u001B[39m os\u001B[38;5;241m.\u001B[39mpath\u001B[38;5;241m.\u001B[39mdirname(fn)\n",
      "\u001B[1;31mFileNotFoundError\u001B[0m: No such file: 'C:\\Deep_HW\\_00_data\\c_volumetric-dicom\\2-LUNG_3.0_B70f-04083'"
     ]
    }
   ],
   "execution_count": 15
  }
 ],
 "metadata": {
  "kernelspec": {
   "display_name": "Python 3",
   "language": "python",
   "name": "python3"
  },
  "language_info": {
   "codemirror_mode": {
    "name": "ipython",
    "version": 2
   },
   "file_extension": ".py",
   "mimetype": "text/x-python",
   "name": "python",
   "nbconvert_exporter": "python",
   "pygments_lexer": "ipython2",
   "version": "2.7.6"
  }
 },
 "nbformat": 4,
 "nbformat_minor": 5
}
